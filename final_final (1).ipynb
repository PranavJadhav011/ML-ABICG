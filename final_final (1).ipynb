{
  "nbformat": 4,
  "nbformat_minor": 0,
  "metadata": {
    "colab": {
      "name": "final_final.ipynb",
      "provenance": [],
      "collapsed_sections": [
        "Hwe2gYvyw9dA",
        "l9-2JDk6w1fG",
        "4i1tpJWxxSvo",
        "Iry1BGesypBE",
        "8i2scX0pcpZ6"
      ]
    },
    "kernelspec": {
      "name": "python3",
      "display_name": "Python 3"
    },
    "language_info": {
      "name": "python"
    }
  },
  "cells": [
    {
      "cell_type": "markdown",
      "source": [
        "#TEAM DETAILS"
      ],
      "metadata": {
        "id": "Hwe2gYvyw9dA"
      }
    },
    {
      "cell_type": "markdown",
      "source": [
        "Team Id:10 <br>\n",
        "Sem: 4<br>\n",
        "Div: B<br>\n",
        "Dept: CSE<br>\n",
        "Title ID: <br>\n",
        "Project title: Play Store Applications Performance Analysis<br>\n",
        "Crisp Problem Statement: Analyze the user interests and trends of Google Play Store applications.<br>\n",
        "Tearism Leader:<br>\n",
        "Team Member 1<br>\n",
        "Name: Mayuri Kalmat<br>\n",
        "Roll No: 230<br>\n",
        "Usn: 01FE20BCS095<br>\n",
        "Team Member 2<br>\n",
        "Name: Parag Hegde<br>\n",
        "Roll No: 231<br>\n",
        "Usn: 01FE20BCS096<br>\n",
        "Team Member 3<br>\n",
        "Name: Pranav Jadhav<br>\n",
        "Roll No: 234<br>\n",
        "Usn: 01FE20BCS099<br>\n",
        "Team Member 4<br>\n",
        "Name: Pranavi Kulkarni<br>\n",
        "Roll No: 253<br>\n",
        "Usn: 01FE20BCS118<br>"
      ],
      "metadata": {
        "id": "6z9Dgm0RwsZe"
      }
    },
    {
      "cell_type": "markdown",
      "source": [
        "#Imports"
      ],
      "metadata": {
        "id": "l9-2JDk6w1fG"
      }
    },
    {
      "cell_type": "code",
      "source": [
        "import pandas as pd\n",
        "import numpy as np\n",
        "import matplotlib.pyplot as plt\n",
        "import seaborn as sns\n",
        "import missingno as msno\n",
        "import warnings\n",
        "warnings.filterwarnings('ignore')"
      ],
      "metadata": {
        "id": "WapZ60Ujw0Vt"
      },
      "execution_count": 227,
      "outputs": []
    },
    {
      "cell_type": "code",
      "source": [
        "df=pd.read_csv('google_dwnlds.csv')\n"
      ],
      "metadata": {
        "id": "PL_OWkyxxb1J"
      },
      "execution_count": 228,
      "outputs": []
    },
    {
      "cell_type": "markdown",
      "source": [
        "#Data details before any Preprocessing"
      ],
      "metadata": {
        "id": "4i1tpJWxxSvo"
      }
    },
    {
      "cell_type": "code",
      "source": [
        "df.head(10)"
      ],
      "metadata": {
        "colab": {
          "base_uri": "https://localhost:8080/",
          "height": 1000
        },
        "id": "plLwj7jLxtNu",
        "outputId": "330e5266-8537-4b95-9d17-d42bc3469830"
      },
      "execution_count": 229,
      "outputs": [
        {
          "output_type": "execute_result",
          "data": {
            "text/plain": [
              "                                                 App        Category  Rating  \\\n",
              "0     Photo Editor & Candy Camera & Grid & ScrapBook  ART_AND_DESIGN     4.1   \n",
              "1                                Coloring book moana  ART_AND_DESIGN     3.9   \n",
              "2  U Launcher Lite ï¿½ï¿½ï¿½ FREE Live Cool Theme...  ART_AND_DESIGN     4.7   \n",
              "3                              Sketch - Draw & Paint  ART_AND_DESIGN     4.5   \n",
              "4              Pixel Draw - Number Art Coloring Book  ART_AND_DESIGN     4.3   \n",
              "5                         Paper flowers instructions  ART_AND_DESIGN     4.4   \n",
              "6            Smoke Effect Photo Maker - Smoke Editor  ART_AND_DESIGN     3.8   \n",
              "7                                   Infinite Painter  ART_AND_DESIGN     4.1   \n",
              "8                               Garden Coloring Book  ART_AND_DESIGN     4.4   \n",
              "9                      Kids Paint Free - Drawing Fun  ART_AND_DESIGN     4.7   \n",
              "\n",
              "  Reviews  Size    Downloads  Type Price Content Rating  \\\n",
              "0     159   19M      10,000+  Free     0       Everyone   \n",
              "1     967   14M     500,000+  Free     0       Everyone   \n",
              "2   87510  8.7M   5,000,000+  Free     0       Everyone   \n",
              "3  215644   25M  50,000,000+  Free     0           Teen   \n",
              "4     967  2.8M     100,000+  Free     0       Everyone   \n",
              "5     167  5.6M      50,000+  Free     0       Everyone   \n",
              "6     178   19M      50,000+  Free     0       Everyone   \n",
              "7   36815   29M   1,000,000+  Free     0       Everyone   \n",
              "8   13791   33M   1,000,000+  Free     0       Everyone   \n",
              "9     121  3.1M      10,000+  Free     0       Everyone   \n",
              "\n",
              "                      Genres        Last Updated         Current Ver  \\\n",
              "0               Art & Design     January 7, 2021               1.0.0   \n",
              "1  Art & Design;Pretend Play    January 15, 2021               2.0.0   \n",
              "2               Art & Design      August 1, 2021               1.2.4   \n",
              "3               Art & Design        June 8, 2021  Varies with device   \n",
              "4    Art & Design;Creativity       June 20, 2021                 1.1   \n",
              "5               Art & Design      March 26, 2020                   1   \n",
              "6               Art & Design      April 26, 2021                 1.1   \n",
              "7               Art & Design       June 14, 2021            6.1.61.1   \n",
              "8               Art & Design  September 20, 2020               2.9.2   \n",
              "9    Art & Design;Creativity        July 3, 2021                 2.8   \n",
              "\n",
              "    Android Ver  Update Frequency Advertisements Beta Program Time Stamp  \\\n",
              "0  4.0.3 and up                57            Yes           No      03:05   \n",
              "1  4.0.3 and up                74             No          Yes      04:05   \n",
              "2  4.0.3 and up                94            Yes           No      05:05   \n",
              "3    4.2 and up                10            Yes           No      06:05   \n",
              "4    4.4 and up                76            Yes          Yes      07:05   \n",
              "5    2.3 and up                54            Yes          Yes      08:05   \n",
              "6  4.0.3 and up                56             No          Yes      09:05   \n",
              "7    4.2 and up                53             No           No      10:05   \n",
              "8    3.0 and up                 4            Yes          Yes      11:05   \n",
              "9  4.0.3 and up                77             No           No      12:05   \n",
              "\n",
              "   Date  Month  \n",
              "0     8     10  \n",
              "1    31      2  \n",
              "2     7      6  \n",
              "3     9     11  \n",
              "4    26      4  \n",
              "5    28      4  \n",
              "6    20      8  \n",
              "7    30      3  \n",
              "8     2      8  \n",
              "9    15      5  "
            ],
            "text/html": [
              "\n",
              "  <div id=\"df-ee2241d9-dc62-4c7e-a60f-1c3e29144d7a\">\n",
              "    <div class=\"colab-df-container\">\n",
              "      <div>\n",
              "<style scoped>\n",
              "    .dataframe tbody tr th:only-of-type {\n",
              "        vertical-align: middle;\n",
              "    }\n",
              "\n",
              "    .dataframe tbody tr th {\n",
              "        vertical-align: top;\n",
              "    }\n",
              "\n",
              "    .dataframe thead th {\n",
              "        text-align: right;\n",
              "    }\n",
              "</style>\n",
              "<table border=\"1\" class=\"dataframe\">\n",
              "  <thead>\n",
              "    <tr style=\"text-align: right;\">\n",
              "      <th></th>\n",
              "      <th>App</th>\n",
              "      <th>Category</th>\n",
              "      <th>Rating</th>\n",
              "      <th>Reviews</th>\n",
              "      <th>Size</th>\n",
              "      <th>Downloads</th>\n",
              "      <th>Type</th>\n",
              "      <th>Price</th>\n",
              "      <th>Content Rating</th>\n",
              "      <th>Genres</th>\n",
              "      <th>Last Updated</th>\n",
              "      <th>Current Ver</th>\n",
              "      <th>Android Ver</th>\n",
              "      <th>Update Frequency</th>\n",
              "      <th>Advertisements</th>\n",
              "      <th>Beta Program</th>\n",
              "      <th>Time Stamp</th>\n",
              "      <th>Date</th>\n",
              "      <th>Month</th>\n",
              "    </tr>\n",
              "  </thead>\n",
              "  <tbody>\n",
              "    <tr>\n",
              "      <th>0</th>\n",
              "      <td>Photo Editor &amp; Candy Camera &amp; Grid &amp; ScrapBook</td>\n",
              "      <td>ART_AND_DESIGN</td>\n",
              "      <td>4.1</td>\n",
              "      <td>159</td>\n",
              "      <td>19M</td>\n",
              "      <td>10,000+</td>\n",
              "      <td>Free</td>\n",
              "      <td>0</td>\n",
              "      <td>Everyone</td>\n",
              "      <td>Art &amp; Design</td>\n",
              "      <td>January 7, 2021</td>\n",
              "      <td>1.0.0</td>\n",
              "      <td>4.0.3 and up</td>\n",
              "      <td>57</td>\n",
              "      <td>Yes</td>\n",
              "      <td>No</td>\n",
              "      <td>03:05</td>\n",
              "      <td>8</td>\n",
              "      <td>10</td>\n",
              "    </tr>\n",
              "    <tr>\n",
              "      <th>1</th>\n",
              "      <td>Coloring book moana</td>\n",
              "      <td>ART_AND_DESIGN</td>\n",
              "      <td>3.9</td>\n",
              "      <td>967</td>\n",
              "      <td>14M</td>\n",
              "      <td>500,000+</td>\n",
              "      <td>Free</td>\n",
              "      <td>0</td>\n",
              "      <td>Everyone</td>\n",
              "      <td>Art &amp; Design;Pretend Play</td>\n",
              "      <td>January 15, 2021</td>\n",
              "      <td>2.0.0</td>\n",
              "      <td>4.0.3 and up</td>\n",
              "      <td>74</td>\n",
              "      <td>No</td>\n",
              "      <td>Yes</td>\n",
              "      <td>04:05</td>\n",
              "      <td>31</td>\n",
              "      <td>2</td>\n",
              "    </tr>\n",
              "    <tr>\n",
              "      <th>2</th>\n",
              "      <td>U Launcher Lite ï¿½ï¿½ï¿½ FREE Live Cool Theme...</td>\n",
              "      <td>ART_AND_DESIGN</td>\n",
              "      <td>4.7</td>\n",
              "      <td>87510</td>\n",
              "      <td>8.7M</td>\n",
              "      <td>5,000,000+</td>\n",
              "      <td>Free</td>\n",
              "      <td>0</td>\n",
              "      <td>Everyone</td>\n",
              "      <td>Art &amp; Design</td>\n",
              "      <td>August 1, 2021</td>\n",
              "      <td>1.2.4</td>\n",
              "      <td>4.0.3 and up</td>\n",
              "      <td>94</td>\n",
              "      <td>Yes</td>\n",
              "      <td>No</td>\n",
              "      <td>05:05</td>\n",
              "      <td>7</td>\n",
              "      <td>6</td>\n",
              "    </tr>\n",
              "    <tr>\n",
              "      <th>3</th>\n",
              "      <td>Sketch - Draw &amp; Paint</td>\n",
              "      <td>ART_AND_DESIGN</td>\n",
              "      <td>4.5</td>\n",
              "      <td>215644</td>\n",
              "      <td>25M</td>\n",
              "      <td>50,000,000+</td>\n",
              "      <td>Free</td>\n",
              "      <td>0</td>\n",
              "      <td>Teen</td>\n",
              "      <td>Art &amp; Design</td>\n",
              "      <td>June 8, 2021</td>\n",
              "      <td>Varies with device</td>\n",
              "      <td>4.2 and up</td>\n",
              "      <td>10</td>\n",
              "      <td>Yes</td>\n",
              "      <td>No</td>\n",
              "      <td>06:05</td>\n",
              "      <td>9</td>\n",
              "      <td>11</td>\n",
              "    </tr>\n",
              "    <tr>\n",
              "      <th>4</th>\n",
              "      <td>Pixel Draw - Number Art Coloring Book</td>\n",
              "      <td>ART_AND_DESIGN</td>\n",
              "      <td>4.3</td>\n",
              "      <td>967</td>\n",
              "      <td>2.8M</td>\n",
              "      <td>100,000+</td>\n",
              "      <td>Free</td>\n",
              "      <td>0</td>\n",
              "      <td>Everyone</td>\n",
              "      <td>Art &amp; Design;Creativity</td>\n",
              "      <td>June 20, 2021</td>\n",
              "      <td>1.1</td>\n",
              "      <td>4.4 and up</td>\n",
              "      <td>76</td>\n",
              "      <td>Yes</td>\n",
              "      <td>Yes</td>\n",
              "      <td>07:05</td>\n",
              "      <td>26</td>\n",
              "      <td>4</td>\n",
              "    </tr>\n",
              "    <tr>\n",
              "      <th>5</th>\n",
              "      <td>Paper flowers instructions</td>\n",
              "      <td>ART_AND_DESIGN</td>\n",
              "      <td>4.4</td>\n",
              "      <td>167</td>\n",
              "      <td>5.6M</td>\n",
              "      <td>50,000+</td>\n",
              "      <td>Free</td>\n",
              "      <td>0</td>\n",
              "      <td>Everyone</td>\n",
              "      <td>Art &amp; Design</td>\n",
              "      <td>March 26, 2020</td>\n",
              "      <td>1</td>\n",
              "      <td>2.3 and up</td>\n",
              "      <td>54</td>\n",
              "      <td>Yes</td>\n",
              "      <td>Yes</td>\n",
              "      <td>08:05</td>\n",
              "      <td>28</td>\n",
              "      <td>4</td>\n",
              "    </tr>\n",
              "    <tr>\n",
              "      <th>6</th>\n",
              "      <td>Smoke Effect Photo Maker - Smoke Editor</td>\n",
              "      <td>ART_AND_DESIGN</td>\n",
              "      <td>3.8</td>\n",
              "      <td>178</td>\n",
              "      <td>19M</td>\n",
              "      <td>50,000+</td>\n",
              "      <td>Free</td>\n",
              "      <td>0</td>\n",
              "      <td>Everyone</td>\n",
              "      <td>Art &amp; Design</td>\n",
              "      <td>April 26, 2021</td>\n",
              "      <td>1.1</td>\n",
              "      <td>4.0.3 and up</td>\n",
              "      <td>56</td>\n",
              "      <td>No</td>\n",
              "      <td>Yes</td>\n",
              "      <td>09:05</td>\n",
              "      <td>20</td>\n",
              "      <td>8</td>\n",
              "    </tr>\n",
              "    <tr>\n",
              "      <th>7</th>\n",
              "      <td>Infinite Painter</td>\n",
              "      <td>ART_AND_DESIGN</td>\n",
              "      <td>4.1</td>\n",
              "      <td>36815</td>\n",
              "      <td>29M</td>\n",
              "      <td>1,000,000+</td>\n",
              "      <td>Free</td>\n",
              "      <td>0</td>\n",
              "      <td>Everyone</td>\n",
              "      <td>Art &amp; Design</td>\n",
              "      <td>June 14, 2021</td>\n",
              "      <td>6.1.61.1</td>\n",
              "      <td>4.2 and up</td>\n",
              "      <td>53</td>\n",
              "      <td>No</td>\n",
              "      <td>No</td>\n",
              "      <td>10:05</td>\n",
              "      <td>30</td>\n",
              "      <td>3</td>\n",
              "    </tr>\n",
              "    <tr>\n",
              "      <th>8</th>\n",
              "      <td>Garden Coloring Book</td>\n",
              "      <td>ART_AND_DESIGN</td>\n",
              "      <td>4.4</td>\n",
              "      <td>13791</td>\n",
              "      <td>33M</td>\n",
              "      <td>1,000,000+</td>\n",
              "      <td>Free</td>\n",
              "      <td>0</td>\n",
              "      <td>Everyone</td>\n",
              "      <td>Art &amp; Design</td>\n",
              "      <td>September 20, 2020</td>\n",
              "      <td>2.9.2</td>\n",
              "      <td>3.0 and up</td>\n",
              "      <td>4</td>\n",
              "      <td>Yes</td>\n",
              "      <td>Yes</td>\n",
              "      <td>11:05</td>\n",
              "      <td>2</td>\n",
              "      <td>8</td>\n",
              "    </tr>\n",
              "    <tr>\n",
              "      <th>9</th>\n",
              "      <td>Kids Paint Free - Drawing Fun</td>\n",
              "      <td>ART_AND_DESIGN</td>\n",
              "      <td>4.7</td>\n",
              "      <td>121</td>\n",
              "      <td>3.1M</td>\n",
              "      <td>10,000+</td>\n",
              "      <td>Free</td>\n",
              "      <td>0</td>\n",
              "      <td>Everyone</td>\n",
              "      <td>Art &amp; Design;Creativity</td>\n",
              "      <td>July 3, 2021</td>\n",
              "      <td>2.8</td>\n",
              "      <td>4.0.3 and up</td>\n",
              "      <td>77</td>\n",
              "      <td>No</td>\n",
              "      <td>No</td>\n",
              "      <td>12:05</td>\n",
              "      <td>15</td>\n",
              "      <td>5</td>\n",
              "    </tr>\n",
              "  </tbody>\n",
              "</table>\n",
              "</div>\n",
              "      <button class=\"colab-df-convert\" onclick=\"convertToInteractive('df-ee2241d9-dc62-4c7e-a60f-1c3e29144d7a')\"\n",
              "              title=\"Convert this dataframe to an interactive table.\"\n",
              "              style=\"display:none;\">\n",
              "        \n",
              "  <svg xmlns=\"http://www.w3.org/2000/svg\" height=\"24px\"viewBox=\"0 0 24 24\"\n",
              "       width=\"24px\">\n",
              "    <path d=\"M0 0h24v24H0V0z\" fill=\"none\"/>\n",
              "    <path d=\"M18.56 5.44l.94 2.06.94-2.06 2.06-.94-2.06-.94-.94-2.06-.94 2.06-2.06.94zm-11 1L8.5 8.5l.94-2.06 2.06-.94-2.06-.94L8.5 2.5l-.94 2.06-2.06.94zm10 10l.94 2.06.94-2.06 2.06-.94-2.06-.94-.94-2.06-.94 2.06-2.06.94z\"/><path d=\"M17.41 7.96l-1.37-1.37c-.4-.4-.92-.59-1.43-.59-.52 0-1.04.2-1.43.59L10.3 9.45l-7.72 7.72c-.78.78-.78 2.05 0 2.83L4 21.41c.39.39.9.59 1.41.59.51 0 1.02-.2 1.41-.59l7.78-7.78 2.81-2.81c.8-.78.8-2.07 0-2.86zM5.41 20L4 18.59l7.72-7.72 1.47 1.35L5.41 20z\"/>\n",
              "  </svg>\n",
              "      </button>\n",
              "      \n",
              "  <style>\n",
              "    .colab-df-container {\n",
              "      display:flex;\n",
              "      flex-wrap:wrap;\n",
              "      gap: 12px;\n",
              "    }\n",
              "\n",
              "    .colab-df-convert {\n",
              "      background-color: #E8F0FE;\n",
              "      border: none;\n",
              "      border-radius: 50%;\n",
              "      cursor: pointer;\n",
              "      display: none;\n",
              "      fill: #1967D2;\n",
              "      height: 32px;\n",
              "      padding: 0 0 0 0;\n",
              "      width: 32px;\n",
              "    }\n",
              "\n",
              "    .colab-df-convert:hover {\n",
              "      background-color: #E2EBFA;\n",
              "      box-shadow: 0px 1px 2px rgba(60, 64, 67, 0.3), 0px 1px 3px 1px rgba(60, 64, 67, 0.15);\n",
              "      fill: #174EA6;\n",
              "    }\n",
              "\n",
              "    [theme=dark] .colab-df-convert {\n",
              "      background-color: #3B4455;\n",
              "      fill: #D2E3FC;\n",
              "    }\n",
              "\n",
              "    [theme=dark] .colab-df-convert:hover {\n",
              "      background-color: #434B5C;\n",
              "      box-shadow: 0px 1px 3px 1px rgba(0, 0, 0, 0.15);\n",
              "      filter: drop-shadow(0px 1px 2px rgba(0, 0, 0, 0.3));\n",
              "      fill: #FFFFFF;\n",
              "    }\n",
              "  </style>\n",
              "\n",
              "      <script>\n",
              "        const buttonEl =\n",
              "          document.querySelector('#df-ee2241d9-dc62-4c7e-a60f-1c3e29144d7a button.colab-df-convert');\n",
              "        buttonEl.style.display =\n",
              "          google.colab.kernel.accessAllowed ? 'block' : 'none';\n",
              "\n",
              "        async function convertToInteractive(key) {\n",
              "          const element = document.querySelector('#df-ee2241d9-dc62-4c7e-a60f-1c3e29144d7a');\n",
              "          const dataTable =\n",
              "            await google.colab.kernel.invokeFunction('convertToInteractive',\n",
              "                                                     [key], {});\n",
              "          if (!dataTable) return;\n",
              "\n",
              "          const docLinkHtml = 'Like what you see? Visit the ' +\n",
              "            '<a target=\"_blank\" href=https://colab.research.google.com/notebooks/data_table.ipynb>data table notebook</a>'\n",
              "            + ' to learn more about interactive tables.';\n",
              "          element.innerHTML = '';\n",
              "          dataTable['output_type'] = 'display_data';\n",
              "          await google.colab.output.renderOutput(dataTable, element);\n",
              "          const docLink = document.createElement('div');\n",
              "          docLink.innerHTML = docLinkHtml;\n",
              "          element.appendChild(docLink);\n",
              "        }\n",
              "      </script>\n",
              "    </div>\n",
              "  </div>\n",
              "  "
            ]
          },
          "metadata": {},
          "execution_count": 229
        }
      ]
    },
    {
      "cell_type": "code",
      "source": [
        "df.shape"
      ],
      "metadata": {
        "colab": {
          "base_uri": "https://localhost:8080/"
        },
        "id": "RqeTBv1fx6Mx",
        "outputId": "c76b3021-e15f-4dc4-ddfe-ce98f6b54e95"
      },
      "execution_count": 230,
      "outputs": [
        {
          "output_type": "execute_result",
          "data": {
            "text/plain": [
              "(10841, 19)"
            ]
          },
          "metadata": {},
          "execution_count": 230
        }
      ]
    },
    {
      "cell_type": "markdown",
      "source": [
        "Number of Columns: 19<br>\n",
        "Number of rows: 10841"
      ],
      "metadata": {
        "id": "Y3lQZCBKx8gn"
      }
    },
    {
      "cell_type": "code",
      "source": [
        "df.describe()"
      ],
      "metadata": {
        "colab": {
          "base_uri": "https://localhost:8080/",
          "height": 300
        },
        "id": "be9sj7xYyc1J",
        "outputId": "bd225425-3b3b-4497-a140-d1fcb47fe63f"
      },
      "execution_count": 231,
      "outputs": [
        {
          "output_type": "execute_result",
          "data": {
            "text/plain": [
              "            Rating  Update Frequency          Date         Month\n",
              "count  9367.000000      10841.000000  10841.000000  10841.000000\n",
              "mean      4.193338         50.355687     15.990222      6.516004\n",
              "std       0.537431         28.676244      8.969624      3.462150\n",
              "min       1.000000          1.000000      1.000000      1.000000\n",
              "25%       4.000000         26.000000      8.000000      4.000000\n",
              "50%       4.300000         50.000000     16.000000      6.000000\n",
              "75%       4.500000         75.000000     24.000000     10.000000\n",
              "max      19.000000        100.000000     31.000000     12.000000"
            ],
            "text/html": [
              "\n",
              "  <div id=\"df-ced85557-df0a-40f9-872b-9a30ec061a5a\">\n",
              "    <div class=\"colab-df-container\">\n",
              "      <div>\n",
              "<style scoped>\n",
              "    .dataframe tbody tr th:only-of-type {\n",
              "        vertical-align: middle;\n",
              "    }\n",
              "\n",
              "    .dataframe tbody tr th {\n",
              "        vertical-align: top;\n",
              "    }\n",
              "\n",
              "    .dataframe thead th {\n",
              "        text-align: right;\n",
              "    }\n",
              "</style>\n",
              "<table border=\"1\" class=\"dataframe\">\n",
              "  <thead>\n",
              "    <tr style=\"text-align: right;\">\n",
              "      <th></th>\n",
              "      <th>Rating</th>\n",
              "      <th>Update Frequency</th>\n",
              "      <th>Date</th>\n",
              "      <th>Month</th>\n",
              "    </tr>\n",
              "  </thead>\n",
              "  <tbody>\n",
              "    <tr>\n",
              "      <th>count</th>\n",
              "      <td>9367.000000</td>\n",
              "      <td>10841.000000</td>\n",
              "      <td>10841.000000</td>\n",
              "      <td>10841.000000</td>\n",
              "    </tr>\n",
              "    <tr>\n",
              "      <th>mean</th>\n",
              "      <td>4.193338</td>\n",
              "      <td>50.355687</td>\n",
              "      <td>15.990222</td>\n",
              "      <td>6.516004</td>\n",
              "    </tr>\n",
              "    <tr>\n",
              "      <th>std</th>\n",
              "      <td>0.537431</td>\n",
              "      <td>28.676244</td>\n",
              "      <td>8.969624</td>\n",
              "      <td>3.462150</td>\n",
              "    </tr>\n",
              "    <tr>\n",
              "      <th>min</th>\n",
              "      <td>1.000000</td>\n",
              "      <td>1.000000</td>\n",
              "      <td>1.000000</td>\n",
              "      <td>1.000000</td>\n",
              "    </tr>\n",
              "    <tr>\n",
              "      <th>25%</th>\n",
              "      <td>4.000000</td>\n",
              "      <td>26.000000</td>\n",
              "      <td>8.000000</td>\n",
              "      <td>4.000000</td>\n",
              "    </tr>\n",
              "    <tr>\n",
              "      <th>50%</th>\n",
              "      <td>4.300000</td>\n",
              "      <td>50.000000</td>\n",
              "      <td>16.000000</td>\n",
              "      <td>6.000000</td>\n",
              "    </tr>\n",
              "    <tr>\n",
              "      <th>75%</th>\n",
              "      <td>4.500000</td>\n",
              "      <td>75.000000</td>\n",
              "      <td>24.000000</td>\n",
              "      <td>10.000000</td>\n",
              "    </tr>\n",
              "    <tr>\n",
              "      <th>max</th>\n",
              "      <td>19.000000</td>\n",
              "      <td>100.000000</td>\n",
              "      <td>31.000000</td>\n",
              "      <td>12.000000</td>\n",
              "    </tr>\n",
              "  </tbody>\n",
              "</table>\n",
              "</div>\n",
              "      <button class=\"colab-df-convert\" onclick=\"convertToInteractive('df-ced85557-df0a-40f9-872b-9a30ec061a5a')\"\n",
              "              title=\"Convert this dataframe to an interactive table.\"\n",
              "              style=\"display:none;\">\n",
              "        \n",
              "  <svg xmlns=\"http://www.w3.org/2000/svg\" height=\"24px\"viewBox=\"0 0 24 24\"\n",
              "       width=\"24px\">\n",
              "    <path d=\"M0 0h24v24H0V0z\" fill=\"none\"/>\n",
              "    <path d=\"M18.56 5.44l.94 2.06.94-2.06 2.06-.94-2.06-.94-.94-2.06-.94 2.06-2.06.94zm-11 1L8.5 8.5l.94-2.06 2.06-.94-2.06-.94L8.5 2.5l-.94 2.06-2.06.94zm10 10l.94 2.06.94-2.06 2.06-.94-2.06-.94-.94-2.06-.94 2.06-2.06.94z\"/><path d=\"M17.41 7.96l-1.37-1.37c-.4-.4-.92-.59-1.43-.59-.52 0-1.04.2-1.43.59L10.3 9.45l-7.72 7.72c-.78.78-.78 2.05 0 2.83L4 21.41c.39.39.9.59 1.41.59.51 0 1.02-.2 1.41-.59l7.78-7.78 2.81-2.81c.8-.78.8-2.07 0-2.86zM5.41 20L4 18.59l7.72-7.72 1.47 1.35L5.41 20z\"/>\n",
              "  </svg>\n",
              "      </button>\n",
              "      \n",
              "  <style>\n",
              "    .colab-df-container {\n",
              "      display:flex;\n",
              "      flex-wrap:wrap;\n",
              "      gap: 12px;\n",
              "    }\n",
              "\n",
              "    .colab-df-convert {\n",
              "      background-color: #E8F0FE;\n",
              "      border: none;\n",
              "      border-radius: 50%;\n",
              "      cursor: pointer;\n",
              "      display: none;\n",
              "      fill: #1967D2;\n",
              "      height: 32px;\n",
              "      padding: 0 0 0 0;\n",
              "      width: 32px;\n",
              "    }\n",
              "\n",
              "    .colab-df-convert:hover {\n",
              "      background-color: #E2EBFA;\n",
              "      box-shadow: 0px 1px 2px rgba(60, 64, 67, 0.3), 0px 1px 3px 1px rgba(60, 64, 67, 0.15);\n",
              "      fill: #174EA6;\n",
              "    }\n",
              "\n",
              "    [theme=dark] .colab-df-convert {\n",
              "      background-color: #3B4455;\n",
              "      fill: #D2E3FC;\n",
              "    }\n",
              "\n",
              "    [theme=dark] .colab-df-convert:hover {\n",
              "      background-color: #434B5C;\n",
              "      box-shadow: 0px 1px 3px 1px rgba(0, 0, 0, 0.15);\n",
              "      filter: drop-shadow(0px 1px 2px rgba(0, 0, 0, 0.3));\n",
              "      fill: #FFFFFF;\n",
              "    }\n",
              "  </style>\n",
              "\n",
              "      <script>\n",
              "        const buttonEl =\n",
              "          document.querySelector('#df-ced85557-df0a-40f9-872b-9a30ec061a5a button.colab-df-convert');\n",
              "        buttonEl.style.display =\n",
              "          google.colab.kernel.accessAllowed ? 'block' : 'none';\n",
              "\n",
              "        async function convertToInteractive(key) {\n",
              "          const element = document.querySelector('#df-ced85557-df0a-40f9-872b-9a30ec061a5a');\n",
              "          const dataTable =\n",
              "            await google.colab.kernel.invokeFunction('convertToInteractive',\n",
              "                                                     [key], {});\n",
              "          if (!dataTable) return;\n",
              "\n",
              "          const docLinkHtml = 'Like what you see? Visit the ' +\n",
              "            '<a target=\"_blank\" href=https://colab.research.google.com/notebooks/data_table.ipynb>data table notebook</a>'\n",
              "            + ' to learn more about interactive tables.';\n",
              "          element.innerHTML = '';\n",
              "          dataTable['output_type'] = 'display_data';\n",
              "          await google.colab.output.renderOutput(dataTable, element);\n",
              "          const docLink = document.createElement('div');\n",
              "          docLink.innerHTML = docLinkHtml;\n",
              "          element.appendChild(docLink);\n",
              "        }\n",
              "      </script>\n",
              "    </div>\n",
              "  </div>\n",
              "  "
            ]
          },
          "metadata": {},
          "execution_count": 231
        }
      ]
    },
    {
      "cell_type": "code",
      "source": [
        "df.isnull().sum()"
      ],
      "metadata": {
        "colab": {
          "base_uri": "https://localhost:8080/"
        },
        "id": "_cp-jPL0yFN3",
        "outputId": "170f2e5c-eb7a-4070-99ca-1178b6e6bc87"
      },
      "execution_count": 232,
      "outputs": [
        {
          "output_type": "execute_result",
          "data": {
            "text/plain": [
              "App                    0\n",
              "Category               0\n",
              "Rating              1474\n",
              "Reviews                0\n",
              "Size                   0\n",
              "Downloads              0\n",
              "Type                   1\n",
              "Price                  0\n",
              "Content Rating         1\n",
              "Genres                 0\n",
              "Last Updated           0\n",
              "Current Ver            8\n",
              "Android Ver            3\n",
              "Update Frequency       0\n",
              "Advertisements         0\n",
              "Beta Program           0\n",
              "Time Stamp             0\n",
              "Date                   0\n",
              "Month                  0\n",
              "dtype: int64"
            ]
          },
          "metadata": {},
          "execution_count": 232
        }
      ]
    },
    {
      "cell_type": "code",
      "source": [
        "df.isnull().sum().sum()"
      ],
      "metadata": {
        "colab": {
          "base_uri": "https://localhost:8080/"
        },
        "id": "lNEr0oZ9yOoS",
        "outputId": "f86f4018-341f-47fc-9274-693466ddccb9"
      },
      "execution_count": 233,
      "outputs": [
        {
          "output_type": "execute_result",
          "data": {
            "text/plain": [
              "1487"
            ]
          },
          "metadata": {},
          "execution_count": 233
        }
      ]
    },
    {
      "cell_type": "markdown",
      "source": [
        "Total Number of null values: 1487"
      ],
      "metadata": {
        "id": "runUq9GGyUiB"
      }
    },
    {
      "cell_type": "code",
      "source": [
        "df.hist(color='orange',edgecolor='white')"
      ],
      "metadata": {
        "id": "G-CyREdIWNrZ",
        "colab": {
          "base_uri": "https://localhost:8080/",
          "height": 368
        },
        "outputId": "a2199619-eb45-45d9-ce0f-b55c3f17384d"
      },
      "execution_count": 234,
      "outputs": [
        {
          "output_type": "execute_result",
          "data": {
            "text/plain": [
              "array([[<matplotlib.axes._subplots.AxesSubplot object at 0x7fdba0cc0f50>,\n",
              "        <matplotlib.axes._subplots.AxesSubplot object at 0x7fdba0a6b450>],\n",
              "       [<matplotlib.axes._subplots.AxesSubplot object at 0x7fdba0a1d850>,\n",
              "        <matplotlib.axes._subplots.AxesSubplot object at 0x7fdba09d2d50>]],\n",
              "      dtype=object)"
            ]
          },
          "metadata": {},
          "execution_count": 234
        },
        {
          "output_type": "display_data",
          "data": {
            "text/plain": [
              "<Figure size 432x288 with 4 Axes>"
            ],
            "image/png": "[encoded data removed]"
          },
          "metadata": {
            "needs_background": "light"
          }
        }
      ]
    },
    {
      "cell_type": "code",
      "source": [
        "df.isna().sum()[df.isna().sum()>0].plot(kind='bar')"
      ],
      "metadata": {
        "colab": {
          "base_uri": "https://localhost:8080/",
          "height": 347
        },
        "id": "okU-RNbp0D1B",
        "outputId": "1c9da9a2-5121-449f-a25b-9821cb3f3310"
      },
      "execution_count": 235,
      "outputs": [
        {
          "output_type": "execute_result",
          "data": {
            "text/plain": [
              "<matplotlib.axes._subplots.AxesSubplot at 0x7fdba0cd4650>"
            ]
          },
          "metadata": {},
          "execution_count": 235
        },
        {
          "output_type": "display_data",
          "data": {
            "text/plain": [
              "<Figure size 432x288 with 1 Axes>"
            ],
            "image/png": "[encoded data removed]"
          },
          "metadata": {
            "needs_background": "light"
          }
        }
      ]
    },
    {
      "cell_type": "markdown",
      "source": [
        "Defining a function to print the datatype, null count, unique count of different attributes(columns) "
      ],
      "metadata": {
        "id": "mRoGCcH14kiA"
      }
    },
    {
      "cell_type": "code",
      "source": [
        "def printinfo():\n",
        "    temp = pd.DataFrame(index=df.columns)\n",
        "    temp['data_type'] = df.dtypes\n",
        "    temp['null_count'] = df.isnull().sum()\n",
        "    temp['unique_count'] = df.nunique()\n",
        "    return temp"
      ],
      "metadata": {
        "id": "jm8yH87a4Jim"
      },
      "execution_count": 236,
      "outputs": []
    },
    {
      "cell_type": "code",
      "source": [
        "printinfo()"
      ],
      "metadata": {
        "colab": {
          "base_uri": "https://localhost:8080/",
          "height": 645
        },
        "id": "y2uLq5H64bU2",
        "outputId": "2d9673f4-6a46-4877-b212-a42baa5633b2"
      },
      "execution_count": 237,
      "outputs": [
        {
          "output_type": "execute_result",
          "data": {
            "text/plain": [
              "                 data_type  null_count  unique_count\n",
              "App                 object           0          9657\n",
              "Category            object           0            34\n",
              "Rating             float64        1474            40\n",
              "Reviews             object           0          6001\n",
              "Size                object           0           462\n",
              "Downloads           object           0            22\n",
              "Type                object           1             3\n",
              "Price               object           0            93\n",
              "Content Rating      object           1             6\n",
              "Genres              object           0           120\n",
              "Last Updated        object           0          1378\n",
              "Current Ver         object           8          2784\n",
              "Android Ver         object           3            33\n",
              "Update Frequency     int64           0           100\n",
              "Advertisements      object           0             2\n",
              "Beta Program        object           0             2\n",
              "Time Stamp          object           0            24\n",
              "Date                 int64           0            31\n",
              "Month                int64           0            12"
            ],
            "text/html": [
              "\n",
              "  <div id=\"df-515d2cef-03e5-44da-a4bf-80283c032d51\">\n",
              "    <div class=\"colab-df-container\">\n",
              "      <div>\n",
              "<style scoped>\n",
              "    .dataframe tbody tr th:only-of-type {\n",
              "        vertical-align: middle;\n",
              "    }\n",
              "\n",
              "    .dataframe tbody tr th {\n",
              "        vertical-align: top;\n",
              "    }\n",
              "\n",
              "    .dataframe thead th {\n",
              "        text-align: right;\n",
              "    }\n",
              "</style>\n",
              "<table border=\"1\" class=\"dataframe\">\n",
              "  <thead>\n",
              "    <tr style=\"text-align: right;\">\n",
              "      <th></th>\n",
              "      <th>data_type</th>\n",
              "      <th>null_count</th>\n",
              "      <th>unique_count</th>\n",
              "    </tr>\n",
              "  </thead>\n",
              "  <tbody>\n",
              "    <tr>\n",
              "      <th>App</th>\n",
              "      <td>object</td>\n",
              "      <td>0</td>\n",
              "      <td>9657</td>\n",
              "    </tr>\n",
              "    <tr>\n",
              "      <th>Category</th>\n",
              "      <td>object</td>\n",
              "      <td>0</td>\n",
              "      <td>34</td>\n",
              "    </tr>\n",
              "    <tr>\n",
              "      <th>Rating</th>\n",
              "      <td>float64</td>\n",
              "      <td>1474</td>\n",
              "      <td>40</td>\n",
              "    </tr>\n",
              "    <tr>\n",
              "      <th>Reviews</th>\n",
              "      <td>object</td>\n",
              "      <td>0</td>\n",
              "      <td>6001</td>\n",
              "    </tr>\n",
              "    <tr>\n",
              "      <th>Size</th>\n",
              "      <td>object</td>\n",
              "      <td>0</td>\n",
              "      <td>462</td>\n",
              "    </tr>\n",
              "    <tr>\n",
              "      <th>Downloads</th>\n",
              "      <td>object</td>\n",
              "      <td>0</td>\n",
              "      <td>22</td>\n",
              "    </tr>\n",
              "    <tr>\n",
              "      <th>Type</th>\n",
              "      <td>object</td>\n",
              "      <td>1</td>\n",
              "      <td>3</td>\n",
              "    </tr>\n",
              "    <tr>\n",
              "      <th>Price</th>\n",
              "      <td>object</td>\n",
              "      <td>0</td>\n",
              "      <td>93</td>\n",
              "    </tr>\n",
              "    <tr>\n",
              "      <th>Content Rating</th>\n",
              "      <td>object</td>\n",
              "      <td>1</td>\n",
              "      <td>6</td>\n",
              "    </tr>\n",
              "    <tr>\n",
              "      <th>Genres</th>\n",
              "      <td>object</td>\n",
              "      <td>0</td>\n",
              "      <td>120</td>\n",
              "    </tr>\n",
              "    <tr>\n",
              "      <th>Last Updated</th>\n",
              "      <td>object</td>\n",
              "      <td>0</td>\n",
              "      <td>1378</td>\n",
              "    </tr>\n",
              "    <tr>\n",
              "      <th>Current Ver</th>\n",
              "      <td>object</td>\n",
              "      <td>8</td>\n",
              "      <td>2784</td>\n",
              "    </tr>\n",
              "    <tr>\n",
              "      <th>Android Ver</th>\n",
              "      <td>object</td>\n",
              "      <td>3</td>\n",
              "      <td>33</td>\n",
              "    </tr>\n",
              "    <tr>\n",
              "      <th>Update Frequency</th>\n",
              "      <td>int64</td>\n",
              "      <td>0</td>\n",
              "      <td>100</td>\n",
              "    </tr>\n",
              "    <tr>\n",
              "      <th>Advertisements</th>\n",
              "      <td>object</td>\n",
              "      <td>0</td>\n",
              "      <td>2</td>\n",
              "    </tr>\n",
              "    <tr>\n",
              "      <th>Beta Program</th>\n",
              "      <td>object</td>\n",
              "      <td>0</td>\n",
              "      <td>2</td>\n",
              "    </tr>\n",
              "    <tr>\n",
              "      <th>Time Stamp</th>\n",
              "      <td>object</td>\n",
              "      <td>0</td>\n",
              "      <td>24</td>\n",
              "    </tr>\n",
              "    <tr>\n",
              "      <th>Date</th>\n",
              "      <td>int64</td>\n",
              "      <td>0</td>\n",
              "      <td>31</td>\n",
              "    </tr>\n",
              "    <tr>\n",
              "      <th>Month</th>\n",
              "      <td>int64</td>\n",
              "      <td>0</td>\n",
              "      <td>12</td>\n",
              "    </tr>\n",
              "  </tbody>\n",
              "</table>\n",
              "</div>\n",
              "      <button class=\"colab-df-convert\" onclick=\"convertToInteractive('df-515d2cef-03e5-44da-a4bf-80283c032d51')\"\n",
              "              title=\"Convert this dataframe to an interactive table.\"\n",
              "              style=\"display:none;\">\n",
              "        \n",
              "  <svg xmlns=\"http://www.w3.org/2000/svg\" height=\"24px\"viewBox=\"0 0 24 24\"\n",
              "       width=\"24px\">\n",
              "    <path d=\"M0 0h24v24H0V0z\" fill=\"none\"/>\n",
              "    <path d=\"M18.56 5.44l.94 2.06.94-2.06 2.06-.94-2.06-.94-.94-2.06-.94 2.06-2.06.94zm-11 1L8.5 8.5l.94-2.06 2.06-.94-2.06-.94L8.5 2.5l-.94 2.06-2.06.94zm10 10l.94 2.06.94-2.06 2.06-.94-2.06-.94-.94-2.06-.94 2.06-2.06.94z\"/><path d=\"M17.41 7.96l-1.37-1.37c-.4-.4-.92-.59-1.43-.59-.52 0-1.04.2-1.43.59L10.3 9.45l-7.72 7.72c-.78.78-.78 2.05 0 2.83L4 21.41c.39.39.9.59 1.41.59.51 0 1.02-.2 1.41-.59l7.78-7.78 2.81-2.81c.8-.78.8-2.07 0-2.86zM5.41 20L4 18.59l7.72-7.72 1.47 1.35L5.41 20z\"/>\n",
              "  </svg>\n",
              "      </button>\n",
              "      \n",
              "  <style>\n",
              "    .colab-df-container {\n",
              "      display:flex;\n",
              "      flex-wrap:wrap;\n",
              "      gap: 12px;\n",
              "    }\n",
              "\n",
              "    .colab-df-convert {\n",
              "      background-color: #E8F0FE;\n",
              "      border: none;\n",
              "      border-radius: 50%;\n",
              "      cursor: pointer;\n",
              "      display: none;\n",
              "      fill: #1967D2;\n",
              "      height: 32px;\n",
              "      padding: 0 0 0 0;\n",
              "      width: 32px;\n",
              "    }\n",
              "\n",
              "    .colab-df-convert:hover {\n",
              "      background-color: #E2EBFA;\n",
              "      box-shadow: 0px 1px 2px rgba(60, 64, 67, 0.3), 0px 1px 3px 1px rgba(60, 64, 67, 0.15);\n",
              "      fill: #174EA6;\n",
              "    }\n",
              "\n",
              "    [theme=dark] .colab-df-convert {\n",
              "      background-color: #3B4455;\n",
              "      fill: #D2E3FC;\n",
              "    }\n",
              "\n",
              "    [theme=dark] .colab-df-convert:hover {\n",
              "      background-color: #434B5C;\n",
              "      box-shadow: 0px 1px 3px 1px rgba(0, 0, 0, 0.15);\n",
              "      filter: drop-shadow(0px 1px 2px rgba(0, 0, 0, 0.3));\n",
              "      fill: #FFFFFF;\n",
              "    }\n",
              "  </style>\n",
              "\n",
              "      <script>\n",
              "        const buttonEl =\n",
              "          document.querySelector('#df-515d2cef-03e5-44da-a4bf-80283c032d51 button.colab-df-convert');\n",
              "        buttonEl.style.display =\n",
              "          google.colab.kernel.accessAllowed ? 'block' : 'none';\n",
              "\n",
              "        async function convertToInteractive(key) {\n",
              "          const element = document.querySelector('#df-515d2cef-03e5-44da-a4bf-80283c032d51');\n",
              "          const dataTable =\n",
              "            await google.colab.kernel.invokeFunction('convertToInteractive',\n",
              "                                                     [key], {});\n",
              "          if (!dataTable) return;\n",
              "\n",
              "          const docLinkHtml = 'Like what you see? Visit the ' +\n",
              "            '<a target=\"_blank\" href=https://colab.research.google.com/notebooks/data_table.ipynb>data table notebook</a>'\n",
              "            + ' to learn more about interactive tables.';\n",
              "          element.innerHTML = '';\n",
              "          dataTable['output_type'] = 'display_data';\n",
              "          await google.colab.output.renderOutput(dataTable, element);\n",
              "          const docLink = document.createElement('div');\n",
              "          docLink.innerHTML = docLinkHtml;\n",
              "          element.appendChild(docLink);\n",
              "        }\n",
              "      </script>\n",
              "    </div>\n",
              "  </div>\n",
              "  "
            ]
          },
          "metadata": {},
          "execution_count": 237
        }
      ]
    },
    {
      "cell_type": "markdown",
      "source": [
        "#Data Cleaning"
      ],
      "metadata": {
        "id": "Iry1BGesypBE"
      }
    },
    {
      "cell_type": "code",
      "source": [
        "df[df.Type.isnull()]"
      ],
      "metadata": {
        "colab": {
          "base_uri": "https://localhost:8080/",
          "height": 214
        },
        "id": "HdPtjNgfynpj",
        "outputId": "e2837855-226e-4209-cae4-c6bd08e5a4e8"
      },
      "execution_count": 238,
      "outputs": [
        {
          "output_type": "execute_result",
          "data": {
            "text/plain": [
              "                            App Category  Rating Reviews                Size  \\\n",
              "9148  Command & Conquer: Rivals   FAMILY     NaN       0  Varies with device   \n",
              "\n",
              "     Downloads Type Price Content Rating    Genres   Last Updated  \\\n",
              "9148         0  NaN     0   Everyone 10+  Strategy  June 28, 2021   \n",
              "\n",
              "             Current Ver         Android Ver  Update Frequency Advertisements  \\\n",
              "9148  Varies with device  Varies with device                66             No   \n",
              "\n",
              "     Beta Program Time Stamp  Date  Month  \n",
              "9148           No      07:05    20      3  "
            ],
            "text/html": [
              "\n",
              "  <div id=\"df-f587ed63-ca84-4ebe-911d-baa114ae1776\">\n",
              "    <div class=\"colab-df-container\">\n",
              "      <div>\n",
              "<style scoped>\n",
              "    .dataframe tbody tr th:only-of-type {\n",
              "        vertical-align: middle;\n",
              "    }\n",
              "\n",
              "    .dataframe tbody tr th {\n",
              "        vertical-align: top;\n",
              "    }\n",
              "\n",
              "    .dataframe thead th {\n",
              "        text-align: right;\n",
              "    }\n",
              "</style>\n",
              "<table border=\"1\" class=\"dataframe\">\n",
              "  <thead>\n",
              "    <tr style=\"text-align: right;\">\n",
              "      <th></th>\n",
              "      <th>App</th>\n",
              "      <th>Category</th>\n",
              "      <th>Rating</th>\n",
              "      <th>Reviews</th>\n",
              "      <th>Size</th>\n",
              "      <th>Downloads</th>\n",
              "      <th>Type</th>\n",
              "      <th>Price</th>\n",
              "      <th>Content Rating</th>\n",
              "      <th>Genres</th>\n",
              "      <th>Last Updated</th>\n",
              "      <th>Current Ver</th>\n",
              "      <th>Android Ver</th>\n",
              "      <th>Update Frequency</th>\n",
              "      <th>Advertisements</th>\n",
              "      <th>Beta Program</th>\n",
              "      <th>Time Stamp</th>\n",
              "      <th>Date</th>\n",
              "      <th>Month</th>\n",
              "    </tr>\n",
              "  </thead>\n",
              "  <tbody>\n",
              "    <tr>\n",
              "      <th>9148</th>\n",
              "      <td>Command &amp; Conquer: Rivals</td>\n",
              "      <td>FAMILY</td>\n",
              "      <td>NaN</td>\n",
              "      <td>0</td>\n",
              "      <td>Varies with device</td>\n",
              "      <td>0</td>\n",
              "      <td>NaN</td>\n",
              "      <td>0</td>\n",
              "      <td>Everyone 10+</td>\n",
              "      <td>Strategy</td>\n",
              "      <td>June 28, 2021</td>\n",
              "      <td>Varies with device</td>\n",
              "      <td>Varies with device</td>\n",
              "      <td>66</td>\n",
              "      <td>No</td>\n",
              "      <td>No</td>\n",
              "      <td>07:05</td>\n",
              "      <td>20</td>\n",
              "      <td>3</td>\n",
              "    </tr>\n",
              "  </tbody>\n",
              "</table>\n",
              "</div>\n",
              "      <button class=\"colab-df-convert\" onclick=\"convertToInteractive('df-f587ed63-ca84-4ebe-911d-baa114ae1776')\"\n",
              "              title=\"Convert this dataframe to an interactive table.\"\n",
              "              style=\"display:none;\">\n",
              "        \n",
              "  <svg xmlns=\"http://www.w3.org/2000/svg\" height=\"24px\"viewBox=\"0 0 24 24\"\n",
              "       width=\"24px\">\n",
              "    <path d=\"M0 0h24v24H0V0z\" fill=\"none\"/>\n",
              "    <path d=\"M18.56 5.44l.94 2.06.94-2.06 2.06-.94-2.06-.94-.94-2.06-.94 2.06-2.06.94zm-11 1L8.5 8.5l.94-2.06 2.06-.94-2.06-.94L8.5 2.5l-.94 2.06-2.06.94zm10 10l.94 2.06.94-2.06 2.06-.94-2.06-.94-.94-2.06-.94 2.06-2.06.94z\"/><path d=\"M17.41 7.96l-1.37-1.37c-.4-.4-.92-.59-1.43-.59-.52 0-1.04.2-1.43.59L10.3 9.45l-7.72 7.72c-.78.78-.78 2.05 0 2.83L4 21.41c.39.39.9.59 1.41.59.51 0 1.02-.2 1.41-.59l7.78-7.78 2.81-2.81c.8-.78.8-2.07 0-2.86zM5.41 20L4 18.59l7.72-7.72 1.47 1.35L5.41 20z\"/>\n",
              "  </svg>\n",
              "      </button>\n",
              "      \n",
              "  <style>\n",
              "    .colab-df-container {\n",
              "      display:flex;\n",
              "      flex-wrap:wrap;\n",
              "      gap: 12px;\n",
              "    }\n",
              "\n",
              "    .colab-df-convert {\n",
              "      background-color: #E8F0FE;\n",
              "      border: none;\n",
              "      border-radius: 50%;\n",
              "      cursor: pointer;\n",
              "      display: none;\n",
              "      fill: #1967D2;\n",
              "      height: 32px;\n",
              "      padding: 0 0 0 0;\n",
              "      width: 32px;\n",
              "    }\n",
              "\n",
              "    .colab-df-convert:hover {\n",
              "      background-color: #E2EBFA;\n",
              "      box-shadow: 0px 1px 2px rgba(60, 64, 67, 0.3), 0px 1px 3px 1px rgba(60, 64, 67, 0.15);\n",
              "      fill: #174EA6;\n",
              "    }\n",
              "\n",
              "    [theme=dark] .colab-df-convert {\n",
              "      background-color: #3B4455;\n",
              "      fill: #D2E3FC;\n",
              "    }\n",
              "\n",
              "    [theme=dark] .colab-df-convert:hover {\n",
              "      background-color: #434B5C;\n",
              "      box-shadow: 0px 1px 3px 1px rgba(0, 0, 0, 0.15);\n",
              "      filter: drop-shadow(0px 1px 2px rgba(0, 0, 0, 0.3));\n",
              "      fill: #FFFFFF;\n",
              "    }\n",
              "  </style>\n",
              "\n",
              "      <script>\n",
              "        const buttonEl =\n",
              "          document.querySelector('#df-f587ed63-ca84-4ebe-911d-baa114ae1776 button.colab-df-convert');\n",
              "        buttonEl.style.display =\n",
              "          google.colab.kernel.accessAllowed ? 'block' : 'none';\n",
              "\n",
              "        async function convertToInteractive(key) {\n",
              "          const element = document.querySelector('#df-f587ed63-ca84-4ebe-911d-baa114ae1776');\n",
              "          const dataTable =\n",
              "            await google.colab.kernel.invokeFunction('convertToInteractive',\n",
              "                                                     [key], {});\n",
              "          if (!dataTable) return;\n",
              "\n",
              "          const docLinkHtml = 'Like what you see? Visit the ' +\n",
              "            '<a target=\"_blank\" href=https://colab.research.google.com/notebooks/data_table.ipynb>data table notebook</a>'\n",
              "            + ' to learn more about interactive tables.';\n",
              "          element.innerHTML = '';\n",
              "          dataTable['output_type'] = 'display_data';\n",
              "          await google.colab.output.renderOutput(dataTable, element);\n",
              "          const docLink = document.createElement('div');\n",
              "          docLink.innerHTML = docLinkHtml;\n",
              "          element.appendChild(docLink);\n",
              "        }\n",
              "      </script>\n",
              "    </div>\n",
              "  </div>\n",
              "  "
            ]
          },
          "metadata": {},
          "execution_count": 238
        }
      ]
    },
    {
      "cell_type": "markdown",
      "source": [
        "Since there is only one missing value in this column, So, let’s fill the missing value. After cross-checking in the play store the missing value is found to be Free, So now we can fill the missing value with free.\n",
        "\n"
      ],
      "metadata": {
        "id": "JuarBEArzcVi"
      }
    },
    {
      "cell_type": "code",
      "source": [
        "df['Type'].fillna(\"Free\", inplace = True)"
      ],
      "metadata": {
        "id": "eUjtmWJCzlq9"
      },
      "execution_count": 239,
      "outputs": []
    },
    {
      "cell_type": "code",
      "source": [
        "df.isnull().sum()"
      ],
      "metadata": {
        "colab": {
          "base_uri": "https://localhost:8080/"
        },
        "id": "BiVjBnMdzv4g",
        "outputId": "5c2651e7-1141-4f7d-f4c1-ee091d57b891"
      },
      "execution_count": 240,
      "outputs": [
        {
          "output_type": "execute_result",
          "data": {
            "text/plain": [
              "App                    0\n",
              "Category               0\n",
              "Rating              1474\n",
              "Reviews                0\n",
              "Size                   0\n",
              "Downloads              0\n",
              "Type                   0\n",
              "Price                  0\n",
              "Content Rating         1\n",
              "Genres                 0\n",
              "Last Updated           0\n",
              "Current Ver            8\n",
              "Android Ver            3\n",
              "Update Frequency       0\n",
              "Advertisements         0\n",
              "Beta Program           0\n",
              "Time Stamp             0\n",
              "Date                   0\n",
              "Month                  0\n",
              "dtype: int64"
            ]
          },
          "metadata": {},
          "execution_count": 240
        }
      ]
    },
    {
      "cell_type": "markdown",
      "source": [
        "So null value in the column 'Type' has been removed "
      ],
      "metadata": {
        "id": "KwAU1Pmfzyve"
      }
    },
    {
      "cell_type": "markdown",
      "source": [
        "We see that there is one null value in the column "
      ],
      "metadata": {
        "id": "rnrUgsS60fI5"
      }
    },
    {
      "cell_type": "code",
      "source": [
        "df[df['Content Rating'].isnull()]"
      ],
      "metadata": {
        "colab": {
          "base_uri": "https://localhost:8080/",
          "height": 231
        },
        "id": "ajSNFlge00X4",
        "outputId": "ef3a4610-4d07-4c40-ef99-4bd01c5aeac4"
      },
      "execution_count": 241,
      "outputs": [
        {
          "output_type": "execute_result",
          "data": {
            "text/plain": [
              "                                           App Category  Rating Reviews  \\\n",
              "10472  Life Made WI-Fi Touchscreen Photo Frame      1.9    19.0    3.0M   \n",
              "\n",
              "         Size Downloads Type     Price Content Rating             Genres  \\\n",
              "10472  1,000+      Free    0  Everyone            NaN  February 11, 2021   \n",
              "\n",
              "      Last Updated Current Ver Android Ver  Update Frequency Advertisements  \\\n",
              "10472       1.0.19  4.0 and up         NaN                95             No   \n",
              "\n",
              "      Beta Program Time Stamp  Date  Month  \n",
              "10472          Yes      11:05     7      9  "
            ],
            "text/html": [
              "\n",
              "  <div id=\"df-c6f56bcc-dac4-4850-9a81-206cbb859823\">\n",
              "    <div class=\"colab-df-container\">\n",
              "      <div>\n",
              "<style scoped>\n",
              "    .dataframe tbody tr th:only-of-type {\n",
              "        vertical-align: middle;\n",
              "    }\n",
              "\n",
              "    .dataframe tbody tr th {\n",
              "        vertical-align: top;\n",
              "    }\n",
              "\n",
              "    .dataframe thead th {\n",
              "        text-align: right;\n",
              "    }\n",
              "</style>\n",
              "<table border=\"1\" class=\"dataframe\">\n",
              "  <thead>\n",
              "    <tr style=\"text-align: right;\">\n",
              "      <th></th>\n",
              "      <th>App</th>\n",
              "      <th>Category</th>\n",
              "      <th>Rating</th>\n",
              "      <th>Reviews</th>\n",
              "      <th>Size</th>\n",
              "      <th>Downloads</th>\n",
              "      <th>Type</th>\n",
              "      <th>Price</th>\n",
              "      <th>Content Rating</th>\n",
              "      <th>Genres</th>\n",
              "      <th>Last Updated</th>\n",
              "      <th>Current Ver</th>\n",
              "      <th>Android Ver</th>\n",
              "      <th>Update Frequency</th>\n",
              "      <th>Advertisements</th>\n",
              "      <th>Beta Program</th>\n",
              "      <th>Time Stamp</th>\n",
              "      <th>Date</th>\n",
              "      <th>Month</th>\n",
              "    </tr>\n",
              "  </thead>\n",
              "  <tbody>\n",
              "    <tr>\n",
              "      <th>10472</th>\n",
              "      <td>Life Made WI-Fi Touchscreen Photo Frame</td>\n",
              "      <td>1.9</td>\n",
              "      <td>19.0</td>\n",
              "      <td>3.0M</td>\n",
              "      <td>1,000+</td>\n",
              "      <td>Free</td>\n",
              "      <td>0</td>\n",
              "      <td>Everyone</td>\n",
              "      <td>NaN</td>\n",
              "      <td>February 11, 2021</td>\n",
              "      <td>1.0.19</td>\n",
              "      <td>4.0 and up</td>\n",
              "      <td>NaN</td>\n",
              "      <td>95</td>\n",
              "      <td>No</td>\n",
              "      <td>Yes</td>\n",
              "      <td>11:05</td>\n",
              "      <td>7</td>\n",
              "      <td>9</td>\n",
              "    </tr>\n",
              "  </tbody>\n",
              "</table>\n",
              "</div>\n",
              "      <button class=\"colab-df-convert\" onclick=\"convertToInteractive('df-c6f56bcc-dac4-4850-9a81-206cbb859823')\"\n",
              "              title=\"Convert this dataframe to an interactive table.\"\n",
              "              style=\"display:none;\">\n",
              "        \n",
              "  <svg xmlns=\"http://www.w3.org/2000/svg\" height=\"24px\"viewBox=\"0 0 24 24\"\n",
              "       width=\"24px\">\n",
              "    <path d=\"M0 0h24v24H0V0z\" fill=\"none\"/>\n",
              "    <path d=\"M18.56 5.44l.94 2.06.94-2.06 2.06-.94-2.06-.94-.94-2.06-.94 2.06-2.06.94zm-11 1L8.5 8.5l.94-2.06 2.06-.94-2.06-.94L8.5 2.5l-.94 2.06-2.06.94zm10 10l.94 2.06.94-2.06 2.06-.94-2.06-.94-.94-2.06-.94 2.06-2.06.94z\"/><path d=\"M17.41 7.96l-1.37-1.37c-.4-.4-.92-.59-1.43-.59-.52 0-1.04.2-1.43.59L10.3 9.45l-7.72 7.72c-.78.78-.78 2.05 0 2.83L4 21.41c.39.39.9.59 1.41.59.51 0 1.02-.2 1.41-.59l7.78-7.78 2.81-2.81c.8-.78.8-2.07 0-2.86zM5.41 20L4 18.59l7.72-7.72 1.47 1.35L5.41 20z\"/>\n",
              "  </svg>\n",
              "      </button>\n",
              "      \n",
              "  <style>\n",
              "    .colab-df-container {\n",
              "      display:flex;\n",
              "      flex-wrap:wrap;\n",
              "      gap: 12px;\n",
              "    }\n",
              "\n",
              "    .colab-df-convert {\n",
              "      background-color: #E8F0FE;\n",
              "      border: none;\n",
              "      border-radius: 50%;\n",
              "      cursor: pointer;\n",
              "      display: none;\n",
              "      fill: #1967D2;\n",
              "      height: 32px;\n",
              "      padding: 0 0 0 0;\n",
              "      width: 32px;\n",
              "    }\n",
              "\n",
              "    .colab-df-convert:hover {\n",
              "      background-color: #E2EBFA;\n",
              "      box-shadow: 0px 1px 2px rgba(60, 64, 67, 0.3), 0px 1px 3px 1px rgba(60, 64, 67, 0.15);\n",
              "      fill: #174EA6;\n",
              "    }\n",
              "\n",
              "    [theme=dark] .colab-df-convert {\n",
              "      background-color: #3B4455;\n",
              "      fill: #D2E3FC;\n",
              "    }\n",
              "\n",
              "    [theme=dark] .colab-df-convert:hover {\n",
              "      background-color: #434B5C;\n",
              "      box-shadow: 0px 1px 3px 1px rgba(0, 0, 0, 0.15);\n",
              "      filter: drop-shadow(0px 1px 2px rgba(0, 0, 0, 0.3));\n",
              "      fill: #FFFFFF;\n",
              "    }\n",
              "  </style>\n",
              "\n",
              "      <script>\n",
              "        const buttonEl =\n",
              "          document.querySelector('#df-c6f56bcc-dac4-4850-9a81-206cbb859823 button.colab-df-convert');\n",
              "        buttonEl.style.display =\n",
              "          google.colab.kernel.accessAllowed ? 'block' : 'none';\n",
              "\n",
              "        async function convertToInteractive(key) {\n",
              "          const element = document.querySelector('#df-c6f56bcc-dac4-4850-9a81-206cbb859823');\n",
              "          const dataTable =\n",
              "            await google.colab.kernel.invokeFunction('convertToInteractive',\n",
              "                                                     [key], {});\n",
              "          if (!dataTable) return;\n",
              "\n",
              "          const docLinkHtml = 'Like what you see? Visit the ' +\n",
              "            '<a target=\"_blank\" href=https://colab.research.google.com/notebooks/data_table.ipynb>data table notebook</a>'\n",
              "            + ' to learn more about interactive tables.';\n",
              "          element.innerHTML = '';\n",
              "          dataTable['output_type'] = 'display_data';\n",
              "          await google.colab.output.renderOutput(dataTable, element);\n",
              "          const docLink = document.createElement('div');\n",
              "          docLink.innerHTML = docLinkHtml;\n",
              "          element.appendChild(docLink);\n",
              "        }\n",
              "      </script>\n",
              "    </div>\n",
              "  </div>\n",
              "  "
            ]
          },
          "metadata": {},
          "execution_count": 241
        }
      ]
    },
    {
      "cell_type": "code",
      "source": [
        "df.dropna(subset = ['Content Rating'], inplace=True)"
      ],
      "metadata": {
        "id": "GmweuuN3V4zu"
      },
      "execution_count": 242,
      "outputs": []
    },
    {
      "cell_type": "code",
      "source": [
        "printinfo()"
      ],
      "metadata": {
        "colab": {
          "base_uri": "https://localhost:8080/",
          "height": 645
        },
        "id": "2AXulTx6aX5R",
        "outputId": "0756fcee-b1a9-4c08-b6d5-2ab4d47b1a0d"
      },
      "execution_count": 243,
      "outputs": [
        {
          "output_type": "execute_result",
          "data": {
            "text/plain": [
              "                 data_type  null_count  unique_count\n",
              "App                 object           0          9656\n",
              "Category            object           0            33\n",
              "Rating             float64        1474            39\n",
              "Reviews             object           0          6000\n",
              "Size                object           0           461\n",
              "Downloads           object           0            21\n",
              "Type                object           0             2\n",
              "Price               object           0            92\n",
              "Content Rating      object           0             6\n",
              "Genres              object           0           119\n",
              "Last Updated        object           0          1377\n",
              "Current Ver         object           8          2783\n",
              "Android Ver         object           2            33\n",
              "Update Frequency     int64           0           100\n",
              "Advertisements      object           0             2\n",
              "Beta Program        object           0             2\n",
              "Time Stamp          object           0            24\n",
              "Date                 int64           0            31\n",
              "Month                int64           0            12"
            ],
            "text/html": [
              "\n",
              "  <div id=\"df-b3d4ad1a-7253-4f60-8245-7154c79f174e\">\n",
              "    <div class=\"colab-df-container\">\n",
              "      <div>\n",
              "<style scoped>\n",
              "    .dataframe tbody tr th:only-of-type {\n",
              "        vertical-align: middle;\n",
              "    }\n",
              "\n",
              "    .dataframe tbody tr th {\n",
              "        vertical-align: top;\n",
              "    }\n",
              "\n",
              "    .dataframe thead th {\n",
              "        text-align: right;\n",
              "    }\n",
              "</style>\n",
              "<table border=\"1\" class=\"dataframe\">\n",
              "  <thead>\n",
              "    <tr style=\"text-align: right;\">\n",
              "      <th></th>\n",
              "      <th>data_type</th>\n",
              "      <th>null_count</th>\n",
              "      <th>unique_count</th>\n",
              "    </tr>\n",
              "  </thead>\n",
              "  <tbody>\n",
              "    <tr>\n",
              "      <th>App</th>\n",
              "      <td>object</td>\n",
              "      <td>0</td>\n",
              "      <td>9656</td>\n",
              "    </tr>\n",
              "    <tr>\n",
              "      <th>Category</th>\n",
              "      <td>object</td>\n",
              "      <td>0</td>\n",
              "      <td>33</td>\n",
              "    </tr>\n",
              "    <tr>\n",
              "      <th>Rating</th>\n",
              "      <td>float64</td>\n",
              "      <td>1474</td>\n",
              "      <td>39</td>\n",
              "    </tr>\n",
              "    <tr>\n",
              "      <th>Reviews</th>\n",
              "      <td>object</td>\n",
              "      <td>0</td>\n",
              "      <td>6000</td>\n",
              "    </tr>\n",
              "    <tr>\n",
              "      <th>Size</th>\n",
              "      <td>object</td>\n",
              "      <td>0</td>\n",
              "      <td>461</td>\n",
              "    </tr>\n",
              "    <tr>\n",
              "      <th>Downloads</th>\n",
              "      <td>object</td>\n",
              "      <td>0</td>\n",
              "      <td>21</td>\n",
              "    </tr>\n",
              "    <tr>\n",
              "      <th>Type</th>\n",
              "      <td>object</td>\n",
              "      <td>0</td>\n",
              "      <td>2</td>\n",
              "    </tr>\n",
              "    <tr>\n",
              "      <th>Price</th>\n",
              "      <td>object</td>\n",
              "      <td>0</td>\n",
              "      <td>92</td>\n",
              "    </tr>\n",
              "    <tr>\n",
              "      <th>Content Rating</th>\n",
              "      <td>object</td>\n",
              "      <td>0</td>\n",
              "      <td>6</td>\n",
              "    </tr>\n",
              "    <tr>\n",
              "      <th>Genres</th>\n",
              "      <td>object</td>\n",
              "      <td>0</td>\n",
              "      <td>119</td>\n",
              "    </tr>\n",
              "    <tr>\n",
              "      <th>Last Updated</th>\n",
              "      <td>object</td>\n",
              "      <td>0</td>\n",
              "      <td>1377</td>\n",
              "    </tr>\n",
              "    <tr>\n",
              "      <th>Current Ver</th>\n",
              "      <td>object</td>\n",
              "      <td>8</td>\n",
              "      <td>2783</td>\n",
              "    </tr>\n",
              "    <tr>\n",
              "      <th>Android Ver</th>\n",
              "      <td>object</td>\n",
              "      <td>2</td>\n",
              "      <td>33</td>\n",
              "    </tr>\n",
              "    <tr>\n",
              "      <th>Update Frequency</th>\n",
              "      <td>int64</td>\n",
              "      <td>0</td>\n",
              "      <td>100</td>\n",
              "    </tr>\n",
              "    <tr>\n",
              "      <th>Advertisements</th>\n",
              "      <td>object</td>\n",
              "      <td>0</td>\n",
              "      <td>2</td>\n",
              "    </tr>\n",
              "    <tr>\n",
              "      <th>Beta Program</th>\n",
              "      <td>object</td>\n",
              "      <td>0</td>\n",
              "      <td>2</td>\n",
              "    </tr>\n",
              "    <tr>\n",
              "      <th>Time Stamp</th>\n",
              "      <td>object</td>\n",
              "      <td>0</td>\n",
              "      <td>24</td>\n",
              "    </tr>\n",
              "    <tr>\n",
              "      <th>Date</th>\n",
              "      <td>int64</td>\n",
              "      <td>0</td>\n",
              "      <td>31</td>\n",
              "    </tr>\n",
              "    <tr>\n",
              "      <th>Month</th>\n",
              "      <td>int64</td>\n",
              "      <td>0</td>\n",
              "      <td>12</td>\n",
              "    </tr>\n",
              "  </tbody>\n",
              "</table>\n",
              "</div>\n",
              "      <button class=\"colab-df-convert\" onclick=\"convertToInteractive('df-b3d4ad1a-7253-4f60-8245-7154c79f174e')\"\n",
              "              title=\"Convert this dataframe to an interactive table.\"\n",
              "              style=\"display:none;\">\n",
              "        \n",
              "  <svg xmlns=\"http://www.w3.org/2000/svg\" height=\"24px\"viewBox=\"0 0 24 24\"\n",
              "       width=\"24px\">\n",
              "    <path d=\"M0 0h24v24H0V0z\" fill=\"none\"/>\n",
              "    <path d=\"M18.56 5.44l.94 2.06.94-2.06 2.06-.94-2.06-.94-.94-2.06-.94 2.06-2.06.94zm-11 1L8.5 8.5l.94-2.06 2.06-.94-2.06-.94L8.5 2.5l-.94 2.06-2.06.94zm10 10l.94 2.06.94-2.06 2.06-.94-2.06-.94-.94-2.06-.94 2.06-2.06.94z\"/><path d=\"M17.41 7.96l-1.37-1.37c-.4-.4-.92-.59-1.43-.59-.52 0-1.04.2-1.43.59L10.3 9.45l-7.72 7.72c-.78.78-.78 2.05 0 2.83L4 21.41c.39.39.9.59 1.41.59.51 0 1.02-.2 1.41-.59l7.78-7.78 2.81-2.81c.8-.78.8-2.07 0-2.86zM5.41 20L4 18.59l7.72-7.72 1.47 1.35L5.41 20z\"/>\n",
              "  </svg>\n",
              "      </button>\n",
              "      \n",
              "  <style>\n",
              "    .colab-df-container {\n",
              "      display:flex;\n",
              "      flex-wrap:wrap;\n",
              "      gap: 12px;\n",
              "    }\n",
              "\n",
              "    .colab-df-convert {\n",
              "      background-color: #E8F0FE;\n",
              "      border: none;\n",
              "      border-radius: 50%;\n",
              "      cursor: pointer;\n",
              "      display: none;\n",
              "      fill: #1967D2;\n",
              "      height: 32px;\n",
              "      padding: 0 0 0 0;\n",
              "      width: 32px;\n",
              "    }\n",
              "\n",
              "    .colab-df-convert:hover {\n",
              "      background-color: #E2EBFA;\n",
              "      box-shadow: 0px 1px 2px rgba(60, 64, 67, 0.3), 0px 1px 3px 1px rgba(60, 64, 67, 0.15);\n",
              "      fill: #174EA6;\n",
              "    }\n",
              "\n",
              "    [theme=dark] .colab-df-convert {\n",
              "      background-color: #3B4455;\n",
              "      fill: #D2E3FC;\n",
              "    }\n",
              "\n",
              "    [theme=dark] .colab-df-convert:hover {\n",
              "      background-color: #434B5C;\n",
              "      box-shadow: 0px 1px 3px 1px rgba(0, 0, 0, 0.15);\n",
              "      filter: drop-shadow(0px 1px 2px rgba(0, 0, 0, 0.3));\n",
              "      fill: #FFFFFF;\n",
              "    }\n",
              "  </style>\n",
              "\n",
              "      <script>\n",
              "        const buttonEl =\n",
              "          document.querySelector('#df-b3d4ad1a-7253-4f60-8245-7154c79f174e button.colab-df-convert');\n",
              "        buttonEl.style.display =\n",
              "          google.colab.kernel.accessAllowed ? 'block' : 'none';\n",
              "\n",
              "        async function convertToInteractive(key) {\n",
              "          const element = document.querySelector('#df-b3d4ad1a-7253-4f60-8245-7154c79f174e');\n",
              "          const dataTable =\n",
              "            await google.colab.kernel.invokeFunction('convertToInteractive',\n",
              "                                                     [key], {});\n",
              "          if (!dataTable) return;\n",
              "\n",
              "          const docLinkHtml = 'Like what you see? Visit the ' +\n",
              "            '<a target=\"_blank\" href=https://colab.research.google.com/notebooks/data_table.ipynb>data table notebook</a>'\n",
              "            + ' to learn more about interactive tables.';\n",
              "          element.innerHTML = '';\n",
              "          dataTable['output_type'] = 'display_data';\n",
              "          await google.colab.output.renderOutput(dataTable, element);\n",
              "          const docLink = document.createElement('div');\n",
              "          docLink.innerHTML = docLinkHtml;\n",
              "          element.appendChild(docLink);\n",
              "        }\n",
              "      </script>\n",
              "    </div>\n",
              "  </div>\n",
              "  "
            ]
          },
          "metadata": {},
          "execution_count": 243
        }
      ]
    },
    {
      "cell_type": "markdown",
      "source": [
        "There are some unwanted columns like: Current Version, Last Updated, Android version, Beta Program"
      ],
      "metadata": {
        "id": "kSflOyCKa7FO"
      }
    },
    {
      "cell_type": "code",
      "source": [
        "df.drop(['Current Ver','Last Updated', 'Android Ver','Beta Program'], axis=1, inplace=True)"
      ],
      "metadata": {
        "id": "LFhvKzeWapyU"
      },
      "execution_count": 244,
      "outputs": []
    },
    {
      "cell_type": "markdown",
      "source": [
        "There are 1474 null values in the column: Rating<br>\n",
        "So we fix it by entering the mode values of the same."
      ],
      "metadata": {
        "id": "huRXBLchbR8n"
      }
    },
    {
      "cell_type": "code",
      "source": [
        "modeValueRating = df['Rating'].mode()"
      ],
      "metadata": {
        "id": "8EyVqbEBa6Tg"
      },
      "execution_count": 245,
      "outputs": []
    },
    {
      "cell_type": "code",
      "source": [
        "df['Rating'].fillna(value=modeValueRating[0], inplace = True)"
      ],
      "metadata": {
        "id": "kLjXew-fbwM_"
      },
      "execution_count": 246,
      "outputs": []
    },
    {
      "cell_type": "code",
      "source": [
        "printinfo()"
      ],
      "metadata": {
        "colab": {
          "base_uri": "https://localhost:8080/",
          "height": 520
        },
        "id": "4-OtUnDSb2Pt",
        "outputId": "9a0aa223-e63f-4be1-e06f-d35fcf12cd0e"
      },
      "execution_count": 247,
      "outputs": [
        {
          "output_type": "execute_result",
          "data": {
            "text/plain": [
              "                 data_type  null_count  unique_count\n",
              "App                 object           0          9656\n",
              "Category            object           0            33\n",
              "Rating             float64           0            39\n",
              "Reviews             object           0          6000\n",
              "Size                object           0           461\n",
              "Downloads           object           0            21\n",
              "Type                object           0             2\n",
              "Price               object           0            92\n",
              "Content Rating      object           0             6\n",
              "Genres              object           0           119\n",
              "Update Frequency     int64           0           100\n",
              "Advertisements      object           0             2\n",
              "Time Stamp          object           0            24\n",
              "Date                 int64           0            31\n",
              "Month                int64           0            12"
            ],
            "text/html": [
              "\n",
              "  <div id=\"df-d3b1a0f2-63f5-4e50-b53e-32d201bf221e\">\n",
              "    <div class=\"colab-df-container\">\n",
              "      <div>\n",
              "<style scoped>\n",
              "    .dataframe tbody tr th:only-of-type {\n",
              "        vertical-align: middle;\n",
              "    }\n",
              "\n",
              "    .dataframe tbody tr th {\n",
              "        vertical-align: top;\n",
              "    }\n",
              "\n",
              "    .dataframe thead th {\n",
              "        text-align: right;\n",
              "    }\n",
              "</style>\n",
              "<table border=\"1\" class=\"dataframe\">\n",
              "  <thead>\n",
              "    <tr style=\"text-align: right;\">\n",
              "      <th></th>\n",
              "      <th>data_type</th>\n",
              "      <th>null_count</th>\n",
              "      <th>unique_count</th>\n",
              "    </tr>\n",
              "  </thead>\n",
              "  <tbody>\n",
              "    <tr>\n",
              "      <th>App</th>\n",
              "      <td>object</td>\n",
              "      <td>0</td>\n",
              "      <td>9656</td>\n",
              "    </tr>\n",
              "    <tr>\n",
              "      <th>Category</th>\n",
              "      <td>object</td>\n",
              "      <td>0</td>\n",
              "      <td>33</td>\n",
              "    </tr>\n",
              "    <tr>\n",
              "      <th>Rating</th>\n",
              "      <td>float64</td>\n",
              "      <td>0</td>\n",
              "      <td>39</td>\n",
              "    </tr>\n",
              "    <tr>\n",
              "      <th>Reviews</th>\n",
              "      <td>object</td>\n",
              "      <td>0</td>\n",
              "      <td>6000</td>\n",
              "    </tr>\n",
              "    <tr>\n",
              "      <th>Size</th>\n",
              "      <td>object</td>\n",
              "      <td>0</td>\n",
              "      <td>461</td>\n",
              "    </tr>\n",
              "    <tr>\n",
              "      <th>Downloads</th>\n",
              "      <td>object</td>\n",
              "      <td>0</td>\n",
              "      <td>21</td>\n",
              "    </tr>\n",
              "    <tr>\n",
              "      <th>Type</th>\n",
              "      <td>object</td>\n",
              "      <td>0</td>\n",
              "      <td>2</td>\n",
              "    </tr>\n",
              "    <tr>\n",
              "      <th>Price</th>\n",
              "      <td>object</td>\n",
              "      <td>0</td>\n",
              "      <td>92</td>\n",
              "    </tr>\n",
              "    <tr>\n",
              "      <th>Content Rating</th>\n",
              "      <td>object</td>\n",
              "      <td>0</td>\n",
              "      <td>6</td>\n",
              "    </tr>\n",
              "    <tr>\n",
              "      <th>Genres</th>\n",
              "      <td>object</td>\n",
              "      <td>0</td>\n",
              "      <td>119</td>\n",
              "    </tr>\n",
              "    <tr>\n",
              "      <th>Update Frequency</th>\n",
              "      <td>int64</td>\n",
              "      <td>0</td>\n",
              "      <td>100</td>\n",
              "    </tr>\n",
              "    <tr>\n",
              "      <th>Advertisements</th>\n",
              "      <td>object</td>\n",
              "      <td>0</td>\n",
              "      <td>2</td>\n",
              "    </tr>\n",
              "    <tr>\n",
              "      <th>Time Stamp</th>\n",
              "      <td>object</td>\n",
              "      <td>0</td>\n",
              "      <td>24</td>\n",
              "    </tr>\n",
              "    <tr>\n",
              "      <th>Date</th>\n",
              "      <td>int64</td>\n",
              "      <td>0</td>\n",
              "      <td>31</td>\n",
              "    </tr>\n",
              "    <tr>\n",
              "      <th>Month</th>\n",
              "      <td>int64</td>\n",
              "      <td>0</td>\n",
              "      <td>12</td>\n",
              "    </tr>\n",
              "  </tbody>\n",
              "</table>\n",
              "</div>\n",
              "      <button class=\"colab-df-convert\" onclick=\"convertToInteractive('df-d3b1a0f2-63f5-4e50-b53e-32d201bf221e')\"\n",
              "              title=\"Convert this dataframe to an interactive table.\"\n",
              "              style=\"display:none;\">\n",
              "        \n",
              "  <svg xmlns=\"http://www.w3.org/2000/svg\" height=\"24px\"viewBox=\"0 0 24 24\"\n",
              "       width=\"24px\">\n",
              "    <path d=\"M0 0h24v24H0V0z\" fill=\"none\"/>\n",
              "    <path d=\"M18.56 5.44l.94 2.06.94-2.06 2.06-.94-2.06-.94-.94-2.06-.94 2.06-2.06.94zm-11 1L8.5 8.5l.94-2.06 2.06-.94-2.06-.94L8.5 2.5l-.94 2.06-2.06.94zm10 10l.94 2.06.94-2.06 2.06-.94-2.06-.94-.94-2.06-.94 2.06-2.06.94z\"/><path d=\"M17.41 7.96l-1.37-1.37c-.4-.4-.92-.59-1.43-.59-.52 0-1.04.2-1.43.59L10.3 9.45l-7.72 7.72c-.78.78-.78 2.05 0 2.83L4 21.41c.39.39.9.59 1.41.59.51 0 1.02-.2 1.41-.59l7.78-7.78 2.81-2.81c.8-.78.8-2.07 0-2.86zM5.41 20L4 18.59l7.72-7.72 1.47 1.35L5.41 20z\"/>\n",
              "  </svg>\n",
              "      </button>\n",
              "      \n",
              "  <style>\n",
              "    .colab-df-container {\n",
              "      display:flex;\n",
              "      flex-wrap:wrap;\n",
              "      gap: 12px;\n",
              "    }\n",
              "\n",
              "    .colab-df-convert {\n",
              "      background-color: #E8F0FE;\n",
              "      border: none;\n",
              "      border-radius: 50%;\n",
              "      cursor: pointer;\n",
              "      display: none;\n",
              "      fill: #1967D2;\n",
              "      height: 32px;\n",
              "      padding: 0 0 0 0;\n",
              "      width: 32px;\n",
              "    }\n",
              "\n",
              "    .colab-df-convert:hover {\n",
              "      background-color: #E2EBFA;\n",
              "      box-shadow: 0px 1px 2px rgba(60, 64, 67, 0.3), 0px 1px 3px 1px rgba(60, 64, 67, 0.15);\n",
              "      fill: #174EA6;\n",
              "    }\n",
              "\n",
              "    [theme=dark] .colab-df-convert {\n",
              "      background-color: #3B4455;\n",
              "      fill: #D2E3FC;\n",
              "    }\n",
              "\n",
              "    [theme=dark] .colab-df-convert:hover {\n",
              "      background-color: #434B5C;\n",
              "      box-shadow: 0px 1px 3px 1px rgba(0, 0, 0, 0.15);\n",
              "      filter: drop-shadow(0px 1px 2px rgba(0, 0, 0, 0.3));\n",
              "      fill: #FFFFFF;\n",
              "    }\n",
              "  </style>\n",
              "\n",
              "      <script>\n",
              "        const buttonEl =\n",
              "          document.querySelector('#df-d3b1a0f2-63f5-4e50-b53e-32d201bf221e button.colab-df-convert');\n",
              "        buttonEl.style.display =\n",
              "          google.colab.kernel.accessAllowed ? 'block' : 'none';\n",
              "\n",
              "        async function convertToInteractive(key) {\n",
              "          const element = document.querySelector('#df-d3b1a0f2-63f5-4e50-b53e-32d201bf221e');\n",
              "          const dataTable =\n",
              "            await google.colab.kernel.invokeFunction('convertToInteractive',\n",
              "                                                     [key], {});\n",
              "          if (!dataTable) return;\n",
              "\n",
              "          const docLinkHtml = 'Like what you see? Visit the ' +\n",
              "            '<a target=\"_blank\" href=https://colab.research.google.com/notebooks/data_table.ipynb>data table notebook</a>'\n",
              "            + ' to learn more about interactive tables.';\n",
              "          element.innerHTML = '';\n",
              "          dataTable['output_type'] = 'display_data';\n",
              "          await google.colab.output.renderOutput(dataTable, element);\n",
              "          const docLink = document.createElement('div');\n",
              "          docLink.innerHTML = docLinkHtml;\n",
              "          element.appendChild(docLink);\n",
              "        }\n",
              "      </script>\n",
              "    </div>\n",
              "  </div>\n",
              "  "
            ]
          },
          "metadata": {},
          "execution_count": 247
        }
      ]
    },
    {
      "cell_type": "markdown",
      "source": [
        "Now all the null values have been removed.<br>\n",
        "This means the data does not contain any missing values"
      ],
      "metadata": {
        "id": "2NoQ2kqpcBKO"
      }
    },
    {
      "cell_type": "code",
      "source": [
        ""
      ],
      "metadata": {
        "id": "0_ZlaL7NikYK"
      },
      "execution_count": 247,
      "outputs": []
    },
    {
      "cell_type": "markdown",
      "source": [
        "#Data Preparation"
      ],
      "metadata": {
        "id": "8i2scX0pcpZ6"
      }
    },
    {
      "cell_type": "markdown",
      "source": [
        "Columns like Reviews, Size, Downloads, & price should have an int or float datatype. But here we can see of objecttype, So let’s convert them to their respective correct type."
      ],
      "metadata": {
        "id": "DSBFwgy-cfZS"
      }
    },
    {
      "cell_type": "markdown",
      "source": [
        "Conversion of Column: 'Reviews' into integer data type"
      ],
      "metadata": {
        "id": "kDgOsiD_d3bZ"
      }
    },
    {
      "cell_type": "code",
      "source": [
        "df['Reviews'] = df.Reviews.astype(int)"
      ],
      "metadata": {
        "id": "0fnnROQicc5v"
      },
      "execution_count": 248,
      "outputs": []
    },
    {
      "cell_type": "code",
      "source": [
        "printinfo()"
      ],
      "metadata": {
        "colab": {
          "base_uri": "https://localhost:8080/",
          "height": 520
        },
        "id": "scyRCXcEdzj_",
        "outputId": "50bbe614-a1a5-4319-b5db-f0bb78879848"
      },
      "execution_count": 249,
      "outputs": [
        {
          "output_type": "execute_result",
          "data": {
            "text/plain": [
              "                 data_type  null_count  unique_count\n",
              "App                 object           0          9656\n",
              "Category            object           0            33\n",
              "Rating             float64           0            39\n",
              "Reviews              int64           0          6000\n",
              "Size                object           0           461\n",
              "Downloads           object           0            21\n",
              "Type                object           0             2\n",
              "Price               object           0            92\n",
              "Content Rating      object           0             6\n",
              "Genres              object           0           119\n",
              "Update Frequency     int64           0           100\n",
              "Advertisements      object           0             2\n",
              "Time Stamp          object           0            24\n",
              "Date                 int64           0            31\n",
              "Month                int64           0            12"
            ],
            "text/html": [
              "\n",
              "  <div id=\"df-4d18b8c6-ee79-4a8c-bc1a-88c872b87b61\">\n",
              "    <div class=\"colab-df-container\">\n",
              "      <div>\n",
              "<style scoped>\n",
              "    .dataframe tbody tr th:only-of-type {\n",
              "        vertical-align: middle;\n",
              "    }\n",
              "\n",
              "    .dataframe tbody tr th {\n",
              "        vertical-align: top;\n",
              "    }\n",
              "\n",
              "    .dataframe thead th {\n",
              "        text-align: right;\n",
              "    }\n",
              "</style>\n",
              "<table border=\"1\" class=\"dataframe\">\n",
              "  <thead>\n",
              "    <tr style=\"text-align: right;\">\n",
              "      <th></th>\n",
              "      <th>data_type</th>\n",
              "      <th>null_count</th>\n",
              "      <th>unique_count</th>\n",
              "    </tr>\n",
              "  </thead>\n",
              "  <tbody>\n",
              "    <tr>\n",
              "      <th>App</th>\n",
              "      <td>object</td>\n",
              "      <td>0</td>\n",
              "      <td>9656</td>\n",
              "    </tr>\n",
              "    <tr>\n",
              "      <th>Category</th>\n",
              "      <td>object</td>\n",
              "      <td>0</td>\n",
              "      <td>33</td>\n",
              "    </tr>\n",
              "    <tr>\n",
              "      <th>Rating</th>\n",
              "      <td>float64</td>\n",
              "      <td>0</td>\n",
              "      <td>39</td>\n",
              "    </tr>\n",
              "    <tr>\n",
              "      <th>Reviews</th>\n",
              "      <td>int64</td>\n",
              "      <td>0</td>\n",
              "      <td>6000</td>\n",
              "    </tr>\n",
              "    <tr>\n",
              "      <th>Size</th>\n",
              "      <td>object</td>\n",
              "      <td>0</td>\n",
              "      <td>461</td>\n",
              "    </tr>\n",
              "    <tr>\n",
              "      <th>Downloads</th>\n",
              "      <td>object</td>\n",
              "      <td>0</td>\n",
              "      <td>21</td>\n",
              "    </tr>\n",
              "    <tr>\n",
              "      <th>Type</th>\n",
              "      <td>object</td>\n",
              "      <td>0</td>\n",
              "      <td>2</td>\n",
              "    </tr>\n",
              "    <tr>\n",
              "      <th>Price</th>\n",
              "      <td>object</td>\n",
              "      <td>0</td>\n",
              "      <td>92</td>\n",
              "    </tr>\n",
              "    <tr>\n",
              "      <th>Content Rating</th>\n",
              "      <td>object</td>\n",
              "      <td>0</td>\n",
              "      <td>6</td>\n",
              "    </tr>\n",
              "    <tr>\n",
              "      <th>Genres</th>\n",
              "      <td>object</td>\n",
              "      <td>0</td>\n",
              "      <td>119</td>\n",
              "    </tr>\n",
              "    <tr>\n",
              "      <th>Update Frequency</th>\n",
              "      <td>int64</td>\n",
              "      <td>0</td>\n",
              "      <td>100</td>\n",
              "    </tr>\n",
              "    <tr>\n",
              "      <th>Advertisements</th>\n",
              "      <td>object</td>\n",
              "      <td>0</td>\n",
              "      <td>2</td>\n",
              "    </tr>\n",
              "    <tr>\n",
              "      <th>Time Stamp</th>\n",
              "      <td>object</td>\n",
              "      <td>0</td>\n",
              "      <td>24</td>\n",
              "    </tr>\n",
              "    <tr>\n",
              "      <th>Date</th>\n",
              "      <td>int64</td>\n",
              "      <td>0</td>\n",
              "      <td>31</td>\n",
              "    </tr>\n",
              "    <tr>\n",
              "      <th>Month</th>\n",
              "      <td>int64</td>\n",
              "      <td>0</td>\n",
              "      <td>12</td>\n",
              "    </tr>\n",
              "  </tbody>\n",
              "</table>\n",
              "</div>\n",
              "      <button class=\"colab-df-convert\" onclick=\"convertToInteractive('df-4d18b8c6-ee79-4a8c-bc1a-88c872b87b61')\"\n",
              "              title=\"Convert this dataframe to an interactive table.\"\n",
              "              style=\"display:none;\">\n",
              "        \n",
              "  <svg xmlns=\"http://www.w3.org/2000/svg\" height=\"24px\"viewBox=\"0 0 24 24\"\n",
              "       width=\"24px\">\n",
              "    <path d=\"M0 0h24v24H0V0z\" fill=\"none\"/>\n",
              "    <path d=\"M18.56 5.44l.94 2.06.94-2.06 2.06-.94-2.06-.94-.94-2.06-.94 2.06-2.06.94zm-11 1L8.5 8.5l.94-2.06 2.06-.94-2.06-.94L8.5 2.5l-.94 2.06-2.06.94zm10 10l.94 2.06.94-2.06 2.06-.94-2.06-.94-.94-2.06-.94 2.06-2.06.94z\"/><path d=\"M17.41 7.96l-1.37-1.37c-.4-.4-.92-.59-1.43-.59-.52 0-1.04.2-1.43.59L10.3 9.45l-7.72 7.72c-.78.78-.78 2.05 0 2.83L4 21.41c.39.39.9.59 1.41.59.51 0 1.02-.2 1.41-.59l7.78-7.78 2.81-2.81c.8-.78.8-2.07 0-2.86zM5.41 20L4 18.59l7.72-7.72 1.47 1.35L5.41 20z\"/>\n",
              "  </svg>\n",
              "      </button>\n",
              "      \n",
              "  <style>\n",
              "    .colab-df-container {\n",
              "      display:flex;\n",
              "      flex-wrap:wrap;\n",
              "      gap: 12px;\n",
              "    }\n",
              "\n",
              "    .colab-df-convert {\n",
              "      background-color: #E8F0FE;\n",
              "      border: none;\n",
              "      border-radius: 50%;\n",
              "      cursor: pointer;\n",
              "      display: none;\n",
              "      fill: #1967D2;\n",
              "      height: 32px;\n",
              "      padding: 0 0 0 0;\n",
              "      width: 32px;\n",
              "    }\n",
              "\n",
              "    .colab-df-convert:hover {\n",
              "      background-color: #E2EBFA;\n",
              "      box-shadow: 0px 1px 2px rgba(60, 64, 67, 0.3), 0px 1px 3px 1px rgba(60, 64, 67, 0.15);\n",
              "      fill: #174EA6;\n",
              "    }\n",
              "\n",
              "    [theme=dark] .colab-df-convert {\n",
              "      background-color: #3B4455;\n",
              "      fill: #D2E3FC;\n",
              "    }\n",
              "\n",
              "    [theme=dark] .colab-df-convert:hover {\n",
              "      background-color: #434B5C;\n",
              "      box-shadow: 0px 1px 3px 1px rgba(0, 0, 0, 0.15);\n",
              "      filter: drop-shadow(0px 1px 2px rgba(0, 0, 0, 0.3));\n",
              "      fill: #FFFFFF;\n",
              "    }\n",
              "  </style>\n",
              "\n",
              "      <script>\n",
              "        const buttonEl =\n",
              "          document.querySelector('#df-4d18b8c6-ee79-4a8c-bc1a-88c872b87b61 button.colab-df-convert');\n",
              "        buttonEl.style.display =\n",
              "          google.colab.kernel.accessAllowed ? 'block' : 'none';\n",
              "\n",
              "        async function convertToInteractive(key) {\n",
              "          const element = document.querySelector('#df-4d18b8c6-ee79-4a8c-bc1a-88c872b87b61');\n",
              "          const dataTable =\n",
              "            await google.colab.kernel.invokeFunction('convertToInteractive',\n",
              "                                                     [key], {});\n",
              "          if (!dataTable) return;\n",
              "\n",
              "          const docLinkHtml = 'Like what you see? Visit the ' +\n",
              "            '<a target=\"_blank\" href=https://colab.research.google.com/notebooks/data_table.ipynb>data table notebook</a>'\n",
              "            + ' to learn more about interactive tables.';\n",
              "          element.innerHTML = '';\n",
              "          dataTable['output_type'] = 'display_data';\n",
              "          await google.colab.output.renderOutput(dataTable, element);\n",
              "          const docLink = document.createElement('div');\n",
              "          docLink.innerHTML = docLinkHtml;\n",
              "          element.appendChild(docLink);\n",
              "        }\n",
              "      </script>\n",
              "    </div>\n",
              "  </div>\n",
              "  "
            ]
          },
          "metadata": {},
          "execution_count": 249
        }
      ]
    },
    {
      "cell_type": "markdown",
      "source": [
        "Removal **'+'** from the **Downloads**\n",
        "\n",
        "\n",
        "\n",
        "\n"
      ],
      "metadata": {
        "id": "PdlK_TGMeYl0"
      }
    },
    {
      "cell_type": "code",
      "source": [
        "df['Downloads'] = df.Downloads.apply(lambda x: x.strip('+'))"
      ],
      "metadata": {
        "id": "xuAuZfBGd2Yr"
      },
      "execution_count": 250,
      "outputs": []
    },
    {
      "cell_type": "markdown",
      "source": [
        "Removal **'M'** from the **Size**"
      ],
      "metadata": {
        "id": "wDyjCx2NgFpP"
      }
    },
    {
      "cell_type": "code",
      "source": [
        "df['Size'] = df.Size.apply(lambda x: x.strip('M'))"
      ],
      "metadata": {
        "id": "uLrFeN-OfpOL"
      },
      "execution_count": 251,
      "outputs": []
    },
    {
      "cell_type": "markdown",
      "source": [
        "Removal **','** from the **Downloads**"
      ],
      "metadata": {
        "id": "i-qdyHT6gbDa"
      }
    },
    {
      "cell_type": "code",
      "source": [
        "df['Downloads']=df[\"Downloads\"].str.replace(\",\",\"\")"
      ],
      "metadata": {
        "id": "Blaaq5aCfHYY"
      },
      "execution_count": 252,
      "outputs": []
    },
    {
      "cell_type": "markdown",
      "source": [
        "Removal of '**$**' from **Price**"
      ],
      "metadata": {
        "id": "QFyRhzUTh00W"
      }
    },
    {
      "cell_type": "code",
      "source": [
        "df['Price']=df[\"Price\"].str.replace(\"$\",\"\")"
      ],
      "metadata": {
        "id": "afshy7xXh7Un"
      },
      "execution_count": 253,
      "outputs": []
    },
    {
      "cell_type": "code",
      "source": [
        "df.head()"
      ],
      "metadata": {
        "colab": {
          "base_uri": "https://localhost:8080/",
          "height": 617
        },
        "id": "w2Ar0Gu1fc14",
        "outputId": "49e7b2a3-91aa-4b19-a0ce-0df825764578"
      },
      "execution_count": 254,
      "outputs": [
        {
          "output_type": "execute_result",
          "data": {
            "text/plain": [
              "                                                 App        Category  Rating  \\\n",
              "0     Photo Editor & Candy Camera & Grid & ScrapBook  ART_AND_DESIGN     4.1   \n",
              "1                                Coloring book moana  ART_AND_DESIGN     3.9   \n",
              "2  U Launcher Lite ï¿½ï¿½ï¿½ FREE Live Cool Theme...  ART_AND_DESIGN     4.7   \n",
              "3                              Sketch - Draw & Paint  ART_AND_DESIGN     4.5   \n",
              "4              Pixel Draw - Number Art Coloring Book  ART_AND_DESIGN     4.3   \n",
              "\n",
              "   Reviews Size Downloads  Type Price Content Rating  \\\n",
              "0      159   19     10000  Free     0       Everyone   \n",
              "1      967   14    500000  Free     0       Everyone   \n",
              "2    87510  8.7   5000000  Free     0       Everyone   \n",
              "3   215644   25  50000000  Free     0           Teen   \n",
              "4      967  2.8    100000  Free     0       Everyone   \n",
              "\n",
              "                      Genres  Update Frequency Advertisements Time Stamp  \\\n",
              "0               Art & Design                57            Yes      03:05   \n",
              "1  Art & Design;Pretend Play                74             No      04:05   \n",
              "2               Art & Design                94            Yes      05:05   \n",
              "3               Art & Design                10            Yes      06:05   \n",
              "4    Art & Design;Creativity                76            Yes      07:05   \n",
              "\n",
              "   Date  Month  \n",
              "0     8     10  \n",
              "1    31      2  \n",
              "2     7      6  \n",
              "3     9     11  \n",
              "4    26      4  "
            ],
            "text/html": [
              "\n",
              "  <div id=\"df-d436ab99-5288-46f6-b9d5-770333f1375b\">\n",
              "    <div class=\"colab-df-container\">\n",
              "      <div>\n",
              "<style scoped>\n",
              "    .dataframe tbody tr th:only-of-type {\n",
              "        vertical-align: middle;\n",
              "    }\n",
              "\n",
              "    .dataframe tbody tr th {\n",
              "        vertical-align: top;\n",
              "    }\n",
              "\n",
              "    .dataframe thead th {\n",
              "        text-align: right;\n",
              "    }\n",
              "</style>\n",
              "<table border=\"1\" class=\"dataframe\">\n",
              "  <thead>\n",
              "    <tr style=\"text-align: right;\">\n",
              "      <th></th>\n",
              "      <th>App</th>\n",
              "      <th>Category</th>\n",
              "      <th>Rating</th>\n",
              "      <th>Reviews</th>\n",
              "      <th>Size</th>\n",
              "      <th>Downloads</th>\n",
              "      <th>Type</th>\n",
              "      <th>Price</th>\n",
              "      <th>Content Rating</th>\n",
              "      <th>Genres</th>\n",
              "      <th>Update Frequency</th>\n",
              "      <th>Advertisements</th>\n",
              "      <th>Time Stamp</th>\n",
              "      <th>Date</th>\n",
              "      <th>Month</th>\n",
              "    </tr>\n",
              "  </thead>\n",
              "  <tbody>\n",
              "    <tr>\n",
              "      <th>0</th>\n",
              "      <td>Photo Editor &amp; Candy Camera &amp; Grid &amp; ScrapBook</td>\n",
              "      <td>ART_AND_DESIGN</td>\n",
              "      <td>4.1</td>\n",
              "      <td>159</td>\n",
              "      <td>19</td>\n",
              "      <td>10000</td>\n",
              "      <td>Free</td>\n",
              "      <td>0</td>\n",
              "      <td>Everyone</td>\n",
              "      <td>Art &amp; Design</td>\n",
              "      <td>57</td>\n",
              "      <td>Yes</td>\n",
              "      <td>03:05</td>\n",
              "      <td>8</td>\n",
              "      <td>10</td>\n",
              "    </tr>\n",
              "    <tr>\n",
              "      <th>1</th>\n",
              "      <td>Coloring book moana</td>\n",
              "      <td>ART_AND_DESIGN</td>\n",
              "      <td>3.9</td>\n",
              "      <td>967</td>\n",
              "      <td>14</td>\n",
              "      <td>500000</td>\n",
              "      <td>Free</td>\n",
              "      <td>0</td>\n",
              "      <td>Everyone</td>\n",
              "      <td>Art &amp; Design;Pretend Play</td>\n",
              "      <td>74</td>\n",
              "      <td>No</td>\n",
              "      <td>04:05</td>\n",
              "      <td>31</td>\n",
              "      <td>2</td>\n",
              "    </tr>\n",
              "    <tr>\n",
              "      <th>2</th>\n",
              "      <td>U Launcher Lite ï¿½ï¿½ï¿½ FREE Live Cool Theme...</td>\n",
              "      <td>ART_AND_DESIGN</td>\n",
              "      <td>4.7</td>\n",
              "      <td>87510</td>\n",
              "      <td>8.7</td>\n",
              "      <td>5000000</td>\n",
              "      <td>Free</td>\n",
              "      <td>0</td>\n",
              "      <td>Everyone</td>\n",
              "      <td>Art &amp; Design</td>\n",
              "      <td>94</td>\n",
              "      <td>Yes</td>\n",
              "      <td>05:05</td>\n",
              "      <td>7</td>\n",
              "      <td>6</td>\n",
              "    </tr>\n",
              "    <tr>\n",
              "      <th>3</th>\n",
              "      <td>Sketch - Draw &amp; Paint</td>\n",
              "      <td>ART_AND_DESIGN</td>\n",
              "      <td>4.5</td>\n",
              "      <td>215644</td>\n",
              "      <td>25</td>\n",
              "      <td>50000000</td>\n",
              "      <td>Free</td>\n",
              "      <td>0</td>\n",
              "      <td>Teen</td>\n",
              "      <td>Art &amp; Design</td>\n",
              "      <td>10</td>\n",
              "      <td>Yes</td>\n",
              "      <td>06:05</td>\n",
              "      <td>9</td>\n",
              "      <td>11</td>\n",
              "    </tr>\n",
              "    <tr>\n",
              "      <th>4</th>\n",
              "      <td>Pixel Draw - Number Art Coloring Book</td>\n",
              "      <td>ART_AND_DESIGN</td>\n",
              "      <td>4.3</td>\n",
              "      <td>967</td>\n",
              "      <td>2.8</td>\n",
              "      <td>100000</td>\n",
              "      <td>Free</td>\n",
              "      <td>0</td>\n",
              "      <td>Everyone</td>\n",
              "      <td>Art &amp; Design;Creativity</td>\n",
              "      <td>76</td>\n",
              "      <td>Yes</td>\n",
              "      <td>07:05</td>\n",
              "      <td>26</td>\n",
              "      <td>4</td>\n",
              "    </tr>\n",
              "  </tbody>\n",
              "</table>\n",
              "</div>\n",
              "      <button class=\"colab-df-convert\" onclick=\"convertToInteractive('df-d436ab99-5288-46f6-b9d5-770333f1375b')\"\n",
              "              title=\"Convert this dataframe to an interactive table.\"\n",
              "              style=\"display:none;\">\n",
              "        \n",
              "  <svg xmlns=\"http://www.w3.org/2000/svg\" height=\"24px\"viewBox=\"0 0 24 24\"\n",
              "       width=\"24px\">\n",
              "    <path d=\"M0 0h24v24H0V0z\" fill=\"none\"/>\n",
              "    <path d=\"M18.56 5.44l.94 2.06.94-2.06 2.06-.94-2.06-.94-.94-2.06-.94 2.06-2.06.94zm-11 1L8.5 8.5l.94-2.06 2.06-.94-2.06-.94L8.5 2.5l-.94 2.06-2.06.94zm10 10l.94 2.06.94-2.06 2.06-.94-2.06-.94-.94-2.06-.94 2.06-2.06.94z\"/><path d=\"M17.41 7.96l-1.37-1.37c-.4-.4-.92-.59-1.43-.59-.52 0-1.04.2-1.43.59L10.3 9.45l-7.72 7.72c-.78.78-.78 2.05 0 2.83L4 21.41c.39.39.9.59 1.41.59.51 0 1.02-.2 1.41-.59l7.78-7.78 2.81-2.81c.8-.78.8-2.07 0-2.86zM5.41 20L4 18.59l7.72-7.72 1.47 1.35L5.41 20z\"/>\n",
              "  </svg>\n",
              "      </button>\n",
              "      \n",
              "  <style>\n",
              "    .colab-df-container {\n",
              "      display:flex;\n",
              "      flex-wrap:wrap;\n",
              "      gap: 12px;\n",
              "    }\n",
              "\n",
              "    .colab-df-convert {\n",
              "      background-color: #E8F0FE;\n",
              "      border: none;\n",
              "      border-radius: 50%;\n",
              "      cursor: pointer;\n",
              "      display: none;\n",
              "      fill: #1967D2;\n",
              "      height: 32px;\n",
              "      padding: 0 0 0 0;\n",
              "      width: 32px;\n",
              "    }\n",
              "\n",
              "    .colab-df-convert:hover {\n",
              "      background-color: #E2EBFA;\n",
              "      box-shadow: 0px 1px 2px rgba(60, 64, 67, 0.3), 0px 1px 3px 1px rgba(60, 64, 67, 0.15);\n",
              "      fill: #174EA6;\n",
              "    }\n",
              "\n",
              "    [theme=dark] .colab-df-convert {\n",
              "      background-color: #3B4455;\n",
              "      fill: #D2E3FC;\n",
              "    }\n",
              "\n",
              "    [theme=dark] .colab-df-convert:hover {\n",
              "      background-color: #434B5C;\n",
              "      box-shadow: 0px 1px 3px 1px rgba(0, 0, 0, 0.15);\n",
              "      filter: drop-shadow(0px 1px 2px rgba(0, 0, 0, 0.3));\n",
              "      fill: #FFFFFF;\n",
              "    }\n",
              "  </style>\n",
              "\n",
              "      <script>\n",
              "        const buttonEl =\n",
              "          document.querySelector('#df-d436ab99-5288-46f6-b9d5-770333f1375b button.colab-df-convert');\n",
              "        buttonEl.style.display =\n",
              "          google.colab.kernel.accessAllowed ? 'block' : 'none';\n",
              "\n",
              "        async function convertToInteractive(key) {\n",
              "          const element = document.querySelector('#df-d436ab99-5288-46f6-b9d5-770333f1375b');\n",
              "          const dataTable =\n",
              "            await google.colab.kernel.invokeFunction('convertToInteractive',\n",
              "                                                     [key], {});\n",
              "          if (!dataTable) return;\n",
              "\n",
              "          const docLinkHtml = 'Like what you see? Visit the ' +\n",
              "            '<a target=\"_blank\" href=https://colab.research.google.com/notebooks/data_table.ipynb>data table notebook</a>'\n",
              "            + ' to learn more about interactive tables.';\n",
              "          element.innerHTML = '';\n",
              "          dataTable['output_type'] = 'display_data';\n",
              "          await google.colab.output.renderOutput(dataTable, element);\n",
              "          const docLink = document.createElement('div');\n",
              "          docLink.innerHTML = docLinkHtml;\n",
              "          element.appendChild(docLink);\n",
              "        }\n",
              "      </script>\n",
              "    </div>\n",
              "  </div>\n",
              "  "
            ]
          },
          "metadata": {},
          "execution_count": 254
        }
      ]
    },
    {
      "cell_type": "markdown",
      "source": [
        "Conversion of Column: 'Size' into float data type"
      ],
      "metadata": {
        "id": "aDeVpOKa81S-"
      }
    },
    {
      "cell_type": "code",
      "source": [
        "df['Size'] = pd.to_numeric(df['Size'],errors='coerce')"
      ],
      "metadata": {
        "id": "VGLbh2c_72wP"
      },
      "execution_count": 255,
      "outputs": []
    },
    {
      "cell_type": "markdown",
      "source": [
        "Conversion of Column: 'Downloads' into float data type"
      ],
      "metadata": {
        "id": "3ZVB3TeZ83y_"
      }
    },
    {
      "cell_type": "code",
      "source": [
        "df['Downloads'] = pd.to_numeric(df['Downloads'],errors='coerce')"
      ],
      "metadata": {
        "id": "GdLAnoib8JDA"
      },
      "execution_count": 256,
      "outputs": []
    },
    {
      "cell_type": "markdown",
      "source": [
        "Conversion of Column: 'Price' into float data type"
      ],
      "metadata": {
        "id": "gWztD3tP84Sv"
      }
    },
    {
      "cell_type": "code",
      "source": [
        "df['Price'] = pd.to_numeric(df['Price'],errors='coerce')"
      ],
      "metadata": {
        "id": "1V5pF4zU8m8X"
      },
      "execution_count": 257,
      "outputs": []
    },
    {
      "cell_type": "markdown",
      "source": [
        "Finally all the data types are set correct"
      ],
      "metadata": {
        "id": "K1Qd8Xt39LVo"
      }
    },
    {
      "cell_type": "code",
      "source": [
        "printinfo()"
      ],
      "metadata": {
        "colab": {
          "base_uri": "https://localhost:8080/",
          "height": 520
        },
        "id": "Uy67U3ej79YK",
        "outputId": "221a0909-f6b0-40ac-facf-823d5ebe00d3"
      },
      "execution_count": 258,
      "outputs": [
        {
          "output_type": "execute_result",
          "data": {
            "text/plain": [
              "                 data_type  null_count  unique_count\n",
              "App                 object           0          9656\n",
              "Category            object           0            33\n",
              "Rating             float64           0            39\n",
              "Reviews              int64           0          6000\n",
              "Size               float64        2011           181\n",
              "Downloads            int64           0            20\n",
              "Type                object           0             2\n",
              "Price              float64           0            92\n",
              "Content Rating      object           0             6\n",
              "Genres              object           0           119\n",
              "Update Frequency     int64           0           100\n",
              "Advertisements      object           0             2\n",
              "Time Stamp          object           0            24\n",
              "Date                 int64           0            31\n",
              "Month                int64           0            12"
            ],
            "text/html": [
              "\n",
              "  <div id=\"df-1b8482b3-45f5-46e3-8b06-4c65e6e73dc2\">\n",
              "    <div class=\"colab-df-container\">\n",
              "      <div>\n",
              "<style scoped>\n",
              "    .dataframe tbody tr th:only-of-type {\n",
              "        vertical-align: middle;\n",
              "    }\n",
              "\n",
              "    .dataframe tbody tr th {\n",
              "        vertical-align: top;\n",
              "    }\n",
              "\n",
              "    .dataframe thead th {\n",
              "        text-align: right;\n",
              "    }\n",
              "</style>\n",
              "<table border=\"1\" class=\"dataframe\">\n",
              "  <thead>\n",
              "    <tr style=\"text-align: right;\">\n",
              "      <th></th>\n",
              "      <th>data_type</th>\n",
              "      <th>null_count</th>\n",
              "      <th>unique_count</th>\n",
              "    </tr>\n",
              "  </thead>\n",
              "  <tbody>\n",
              "    <tr>\n",
              "      <th>App</th>\n",
              "      <td>object</td>\n",
              "      <td>0</td>\n",
              "      <td>9656</td>\n",
              "    </tr>\n",
              "    <tr>\n",
              "      <th>Category</th>\n",
              "      <td>object</td>\n",
              "      <td>0</td>\n",
              "      <td>33</td>\n",
              "    </tr>\n",
              "    <tr>\n",
              "      <th>Rating</th>\n",
              "      <td>float64</td>\n",
              "      <td>0</td>\n",
              "      <td>39</td>\n",
              "    </tr>\n",
              "    <tr>\n",
              "      <th>Reviews</th>\n",
              "      <td>int64</td>\n",
              "      <td>0</td>\n",
              "      <td>6000</td>\n",
              "    </tr>\n",
              "    <tr>\n",
              "      <th>Size</th>\n",
              "      <td>float64</td>\n",
              "      <td>2011</td>\n",
              "      <td>181</td>\n",
              "    </tr>\n",
              "    <tr>\n",
              "      <th>Downloads</th>\n",
              "      <td>int64</td>\n",
              "      <td>0</td>\n",
              "      <td>20</td>\n",
              "    </tr>\n",
              "    <tr>\n",
              "      <th>Type</th>\n",
              "      <td>object</td>\n",
              "      <td>0</td>\n",
              "      <td>2</td>\n",
              "    </tr>\n",
              "    <tr>\n",
              "      <th>Price</th>\n",
              "      <td>float64</td>\n",
              "      <td>0</td>\n",
              "      <td>92</td>\n",
              "    </tr>\n",
              "    <tr>\n",
              "      <th>Content Rating</th>\n",
              "      <td>object</td>\n",
              "      <td>0</td>\n",
              "      <td>6</td>\n",
              "    </tr>\n",
              "    <tr>\n",
              "      <th>Genres</th>\n",
              "      <td>object</td>\n",
              "      <td>0</td>\n",
              "      <td>119</td>\n",
              "    </tr>\n",
              "    <tr>\n",
              "      <th>Update Frequency</th>\n",
              "      <td>int64</td>\n",
              "      <td>0</td>\n",
              "      <td>100</td>\n",
              "    </tr>\n",
              "    <tr>\n",
              "      <th>Advertisements</th>\n",
              "      <td>object</td>\n",
              "      <td>0</td>\n",
              "      <td>2</td>\n",
              "    </tr>\n",
              "    <tr>\n",
              "      <th>Time Stamp</th>\n",
              "      <td>object</td>\n",
              "      <td>0</td>\n",
              "      <td>24</td>\n",
              "    </tr>\n",
              "    <tr>\n",
              "      <th>Date</th>\n",
              "      <td>int64</td>\n",
              "      <td>0</td>\n",
              "      <td>31</td>\n",
              "    </tr>\n",
              "    <tr>\n",
              "      <th>Month</th>\n",
              "      <td>int64</td>\n",
              "      <td>0</td>\n",
              "      <td>12</td>\n",
              "    </tr>\n",
              "  </tbody>\n",
              "</table>\n",
              "</div>\n",
              "      <button class=\"colab-df-convert\" onclick=\"convertToInteractive('df-1b8482b3-45f5-46e3-8b06-4c65e6e73dc2')\"\n",
              "              title=\"Convert this dataframe to an interactive table.\"\n",
              "              style=\"display:none;\">\n",
              "        \n",
              "  <svg xmlns=\"http://www.w3.org/2000/svg\" height=\"24px\"viewBox=\"0 0 24 24\"\n",
              "       width=\"24px\">\n",
              "    <path d=\"M0 0h24v24H0V0z\" fill=\"none\"/>\n",
              "    <path d=\"M18.56 5.44l.94 2.06.94-2.06 2.06-.94-2.06-.94-.94-2.06-.94 2.06-2.06.94zm-11 1L8.5 8.5l.94-2.06 2.06-.94-2.06-.94L8.5 2.5l-.94 2.06-2.06.94zm10 10l.94 2.06.94-2.06 2.06-.94-2.06-.94-.94-2.06-.94 2.06-2.06.94z\"/><path d=\"M17.41 7.96l-1.37-1.37c-.4-.4-.92-.59-1.43-.59-.52 0-1.04.2-1.43.59L10.3 9.45l-7.72 7.72c-.78.78-.78 2.05 0 2.83L4 21.41c.39.39.9.59 1.41.59.51 0 1.02-.2 1.41-.59l7.78-7.78 2.81-2.81c.8-.78.8-2.07 0-2.86zM5.41 20L4 18.59l7.72-7.72 1.47 1.35L5.41 20z\"/>\n",
              "  </svg>\n",
              "      </button>\n",
              "      \n",
              "  <style>\n",
              "    .colab-df-container {\n",
              "      display:flex;\n",
              "      flex-wrap:wrap;\n",
              "      gap: 12px;\n",
              "    }\n",
              "\n",
              "    .colab-df-convert {\n",
              "      background-color: #E8F0FE;\n",
              "      border: none;\n",
              "      border-radius: 50%;\n",
              "      cursor: pointer;\n",
              "      display: none;\n",
              "      fill: #1967D2;\n",
              "      height: 32px;\n",
              "      padding: 0 0 0 0;\n",
              "      width: 32px;\n",
              "    }\n",
              "\n",
              "    .colab-df-convert:hover {\n",
              "      background-color: #E2EBFA;\n",
              "      box-shadow: 0px 1px 2px rgba(60, 64, 67, 0.3), 0px 1px 3px 1px rgba(60, 64, 67, 0.15);\n",
              "      fill: #174EA6;\n",
              "    }\n",
              "\n",
              "    [theme=dark] .colab-df-convert {\n",
              "      background-color: #3B4455;\n",
              "      fill: #D2E3FC;\n",
              "    }\n",
              "\n",
              "    [theme=dark] .colab-df-convert:hover {\n",
              "      background-color: #434B5C;\n",
              "      box-shadow: 0px 1px 3px 1px rgba(0, 0, 0, 0.15);\n",
              "      filter: drop-shadow(0px 1px 2px rgba(0, 0, 0, 0.3));\n",
              "      fill: #FFFFFF;\n",
              "    }\n",
              "  </style>\n",
              "\n",
              "      <script>\n",
              "        const buttonEl =\n",
              "          document.querySelector('#df-1b8482b3-45f5-46e3-8b06-4c65e6e73dc2 button.colab-df-convert');\n",
              "        buttonEl.style.display =\n",
              "          google.colab.kernel.accessAllowed ? 'block' : 'none';\n",
              "\n",
              "        async function convertToInteractive(key) {\n",
              "          const element = document.querySelector('#df-1b8482b3-45f5-46e3-8b06-4c65e6e73dc2');\n",
              "          const dataTable =\n",
              "            await google.colab.kernel.invokeFunction('convertToInteractive',\n",
              "                                                     [key], {});\n",
              "          if (!dataTable) return;\n",
              "\n",
              "          const docLinkHtml = 'Like what you see? Visit the ' +\n",
              "            '<a target=\"_blank\" href=https://colab.research.google.com/notebooks/data_table.ipynb>data table notebook</a>'\n",
              "            + ' to learn more about interactive tables.';\n",
              "          element.innerHTML = '';\n",
              "          dataTable['output_type'] = 'display_data';\n",
              "          await google.colab.output.renderOutput(dataTable, element);\n",
              "          const docLink = document.createElement('div');\n",
              "          docLink.innerHTML = docLinkHtml;\n",
              "          element.appendChild(docLink);\n",
              "        }\n",
              "      </script>\n",
              "    </div>\n",
              "  </div>\n",
              "  "
            ]
          },
          "metadata": {},
          "execution_count": 258
        }
      ]
    },
    {
      "cell_type": "code",
      "source": [
        "df.isnull().sum()"
      ],
      "metadata": {
        "colab": {
          "base_uri": "https://localhost:8080/"
        },
        "id": "EE-dWOQB9VLw",
        "outputId": "adffbb7a-f8a7-4b1b-dcc1-e235c86595fe"
      },
      "execution_count": 259,
      "outputs": [
        {
          "output_type": "execute_result",
          "data": {
            "text/plain": [
              "App                    0\n",
              "Category               0\n",
              "Rating                 0\n",
              "Reviews                0\n",
              "Size                2011\n",
              "Downloads              0\n",
              "Type                   0\n",
              "Price                  0\n",
              "Content Rating         0\n",
              "Genres                 0\n",
              "Update Frequency       0\n",
              "Advertisements         0\n",
              "Time Stamp             0\n",
              "Date                   0\n",
              "Month                  0\n",
              "dtype: int64"
            ]
          },
          "metadata": {},
          "execution_count": 259
        }
      ]
    },
    {
      "cell_type": "markdown",
      "source": [
        "We see after conversion, column Size has 2011 null values"
      ],
      "metadata": {
        "id": "iKFGm1Jm9XjL"
      }
    },
    {
      "cell_type": "code",
      "source": [
        "meanValueSize = df['Size'].mean()"
      ],
      "metadata": {
        "id": "X5OiVAOR9ddp"
      },
      "execution_count": 260,
      "outputs": []
    },
    {
      "cell_type": "code",
      "source": [
        "df['Size'].fillna(value=meanValueSize, inplace = True)"
      ],
      "metadata": {
        "id": "_klVcVc3AP4e"
      },
      "execution_count": 261,
      "outputs": []
    },
    {
      "cell_type": "code",
      "source": [
        "printinfo()"
      ],
      "metadata": {
        "colab": {
          "base_uri": "https://localhost:8080/",
          "height": 520
        },
        "id": "nhVsJzxOAaWE",
        "outputId": "415ec09e-10d8-4f99-93bc-4a41a4b4bfd8"
      },
      "execution_count": 262,
      "outputs": [
        {
          "output_type": "execute_result",
          "data": {
            "text/plain": [
              "                 data_type  null_count  unique_count\n",
              "App                 object           0          9656\n",
              "Category            object           0            33\n",
              "Rating             float64           0            39\n",
              "Reviews              int64           0          6000\n",
              "Size               float64           0           182\n",
              "Downloads            int64           0            20\n",
              "Type                object           0             2\n",
              "Price              float64           0            92\n",
              "Content Rating      object           0             6\n",
              "Genres              object           0           119\n",
              "Update Frequency     int64           0           100\n",
              "Advertisements      object           0             2\n",
              "Time Stamp          object           0            24\n",
              "Date                 int64           0            31\n",
              "Month                int64           0            12"
            ],
            "text/html": [
              "\n",
              "  <div id=\"df-8c60ace4-1c49-480c-8a0f-7e939ac561ce\">\n",
              "    <div class=\"colab-df-container\">\n",
              "      <div>\n",
              "<style scoped>\n",
              "    .dataframe tbody tr th:only-of-type {\n",
              "        vertical-align: middle;\n",
              "    }\n",
              "\n",
              "    .dataframe tbody tr th {\n",
              "        vertical-align: top;\n",
              "    }\n",
              "\n",
              "    .dataframe thead th {\n",
              "        text-align: right;\n",
              "    }\n",
              "</style>\n",
              "<table border=\"1\" class=\"dataframe\">\n",
              "  <thead>\n",
              "    <tr style=\"text-align: right;\">\n",
              "      <th></th>\n",
              "      <th>data_type</th>\n",
              "      <th>null_count</th>\n",
              "      <th>unique_count</th>\n",
              "    </tr>\n",
              "  </thead>\n",
              "  <tbody>\n",
              "    <tr>\n",
              "      <th>App</th>\n",
              "      <td>object</td>\n",
              "      <td>0</td>\n",
              "      <td>9656</td>\n",
              "    </tr>\n",
              "    <tr>\n",
              "      <th>Category</th>\n",
              "      <td>object</td>\n",
              "      <td>0</td>\n",
              "      <td>33</td>\n",
              "    </tr>\n",
              "    <tr>\n",
              "      <th>Rating</th>\n",
              "      <td>float64</td>\n",
              "      <td>0</td>\n",
              "      <td>39</td>\n",
              "    </tr>\n",
              "    <tr>\n",
              "      <th>Reviews</th>\n",
              "      <td>int64</td>\n",
              "      <td>0</td>\n",
              "      <td>6000</td>\n",
              "    </tr>\n",
              "    <tr>\n",
              "      <th>Size</th>\n",
              "      <td>float64</td>\n",
              "      <td>0</td>\n",
              "      <td>182</td>\n",
              "    </tr>\n",
              "    <tr>\n",
              "      <th>Downloads</th>\n",
              "      <td>int64</td>\n",
              "      <td>0</td>\n",
              "      <td>20</td>\n",
              "    </tr>\n",
              "    <tr>\n",
              "      <th>Type</th>\n",
              "      <td>object</td>\n",
              "      <td>0</td>\n",
              "      <td>2</td>\n",
              "    </tr>\n",
              "    <tr>\n",
              "      <th>Price</th>\n",
              "      <td>float64</td>\n",
              "      <td>0</td>\n",
              "      <td>92</td>\n",
              "    </tr>\n",
              "    <tr>\n",
              "      <th>Content Rating</th>\n",
              "      <td>object</td>\n",
              "      <td>0</td>\n",
              "      <td>6</td>\n",
              "    </tr>\n",
              "    <tr>\n",
              "      <th>Genres</th>\n",
              "      <td>object</td>\n",
              "      <td>0</td>\n",
              "      <td>119</td>\n",
              "    </tr>\n",
              "    <tr>\n",
              "      <th>Update Frequency</th>\n",
              "      <td>int64</td>\n",
              "      <td>0</td>\n",
              "      <td>100</td>\n",
              "    </tr>\n",
              "    <tr>\n",
              "      <th>Advertisements</th>\n",
              "      <td>object</td>\n",
              "      <td>0</td>\n",
              "      <td>2</td>\n",
              "    </tr>\n",
              "    <tr>\n",
              "      <th>Time Stamp</th>\n",
              "      <td>object</td>\n",
              "      <td>0</td>\n",
              "      <td>24</td>\n",
              "    </tr>\n",
              "    <tr>\n",
              "      <th>Date</th>\n",
              "      <td>int64</td>\n",
              "      <td>0</td>\n",
              "      <td>31</td>\n",
              "    </tr>\n",
              "    <tr>\n",
              "      <th>Month</th>\n",
              "      <td>int64</td>\n",
              "      <td>0</td>\n",
              "      <td>12</td>\n",
              "    </tr>\n",
              "  </tbody>\n",
              "</table>\n",
              "</div>\n",
              "      <button class=\"colab-df-convert\" onclick=\"convertToInteractive('df-8c60ace4-1c49-480c-8a0f-7e939ac561ce')\"\n",
              "              title=\"Convert this dataframe to an interactive table.\"\n",
              "              style=\"display:none;\">\n",
              "        \n",
              "  <svg xmlns=\"http://www.w3.org/2000/svg\" height=\"24px\"viewBox=\"0 0 24 24\"\n",
              "       width=\"24px\">\n",
              "    <path d=\"M0 0h24v24H0V0z\" fill=\"none\"/>\n",
              "    <path d=\"M18.56 5.44l.94 2.06.94-2.06 2.06-.94-2.06-.94-.94-2.06-.94 2.06-2.06.94zm-11 1L8.5 8.5l.94-2.06 2.06-.94-2.06-.94L8.5 2.5l-.94 2.06-2.06.94zm10 10l.94 2.06.94-2.06 2.06-.94-2.06-.94-.94-2.06-.94 2.06-2.06.94z\"/><path d=\"M17.41 7.96l-1.37-1.37c-.4-.4-.92-.59-1.43-.59-.52 0-1.04.2-1.43.59L10.3 9.45l-7.72 7.72c-.78.78-.78 2.05 0 2.83L4 21.41c.39.39.9.59 1.41.59.51 0 1.02-.2 1.41-.59l7.78-7.78 2.81-2.81c.8-.78.8-2.07 0-2.86zM5.41 20L4 18.59l7.72-7.72 1.47 1.35L5.41 20z\"/>\n",
              "  </svg>\n",
              "      </button>\n",
              "      \n",
              "  <style>\n",
              "    .colab-df-container {\n",
              "      display:flex;\n",
              "      flex-wrap:wrap;\n",
              "      gap: 12px;\n",
              "    }\n",
              "\n",
              "    .colab-df-convert {\n",
              "      background-color: #E8F0FE;\n",
              "      border: none;\n",
              "      border-radius: 50%;\n",
              "      cursor: pointer;\n",
              "      display: none;\n",
              "      fill: #1967D2;\n",
              "      height: 32px;\n",
              "      padding: 0 0 0 0;\n",
              "      width: 32px;\n",
              "    }\n",
              "\n",
              "    .colab-df-convert:hover {\n",
              "      background-color: #E2EBFA;\n",
              "      box-shadow: 0px 1px 2px rgba(60, 64, 67, 0.3), 0px 1px 3px 1px rgba(60, 64, 67, 0.15);\n",
              "      fill: #174EA6;\n",
              "    }\n",
              "\n",
              "    [theme=dark] .colab-df-convert {\n",
              "      background-color: #3B4455;\n",
              "      fill: #D2E3FC;\n",
              "    }\n",
              "\n",
              "    [theme=dark] .colab-df-convert:hover {\n",
              "      background-color: #434B5C;\n",
              "      box-shadow: 0px 1px 3px 1px rgba(0, 0, 0, 0.15);\n",
              "      filter: drop-shadow(0px 1px 2px rgba(0, 0, 0, 0.3));\n",
              "      fill: #FFFFFF;\n",
              "    }\n",
              "  </style>\n",
              "\n",
              "      <script>\n",
              "        const buttonEl =\n",
              "          document.querySelector('#df-8c60ace4-1c49-480c-8a0f-7e939ac561ce button.colab-df-convert');\n",
              "        buttonEl.style.display =\n",
              "          google.colab.kernel.accessAllowed ? 'block' : 'none';\n",
              "\n",
              "        async function convertToInteractive(key) {\n",
              "          const element = document.querySelector('#df-8c60ace4-1c49-480c-8a0f-7e939ac561ce');\n",
              "          const dataTable =\n",
              "            await google.colab.kernel.invokeFunction('convertToInteractive',\n",
              "                                                     [key], {});\n",
              "          if (!dataTable) return;\n",
              "\n",
              "          const docLinkHtml = 'Like what you see? Visit the ' +\n",
              "            '<a target=\"_blank\" href=https://colab.research.google.com/notebooks/data_table.ipynb>data table notebook</a>'\n",
              "            + ' to learn more about interactive tables.';\n",
              "          element.innerHTML = '';\n",
              "          dataTable['output_type'] = 'display_data';\n",
              "          await google.colab.output.renderOutput(dataTable, element);\n",
              "          const docLink = document.createElement('div');\n",
              "          docLink.innerHTML = docLinkHtml;\n",
              "          element.appendChild(docLink);\n",
              "        }\n",
              "      </script>\n",
              "    </div>\n",
              "  </div>\n",
              "  "
            ]
          },
          "metadata": {},
          "execution_count": 262
        }
      ]
    },
    {
      "cell_type": "markdown",
      "source": [
        "Finally the data set is free of null values "
      ],
      "metadata": {
        "id": "14IRC2rHAdN6"
      }
    },
    {
      "cell_type": "markdown",
      "source": [
        "Since the columns Genres and Category almost have the same values we drop the column Genre"
      ],
      "metadata": {
        "id": "ZApnrJuTAzHX"
      }
    },
    {
      "cell_type": "code",
      "source": [
        "df.drop(['Genres'], axis=1, inplace=True)"
      ],
      "metadata": {
        "id": "b9MM_iMoAwMe"
      },
      "execution_count": 263,
      "outputs": []
    },
    {
      "cell_type": "markdown",
      "source": [
        "A run-through through csv tells that there are a lot of duplicate values<br>\n",
        "So we remove the duplicate applications."
      ],
      "metadata": {
        "id": "xoJSJ51bCLP9"
      }
    },
    {
      "cell_type": "code",
      "source": [
        "df.drop_duplicates(subset='App', keep=\"first\", inplace=True)"
      ],
      "metadata": {
        "id": "6WxNUCHQCuKD"
      },
      "execution_count": 264,
      "outputs": []
    },
    {
      "cell_type": "code",
      "source": [
        "df.shape"
      ],
      "metadata": {
        "colab": {
          "base_uri": "https://localhost:8080/"
        },
        "id": "1bgkWexLAclx",
        "outputId": "b9e77393-a350-421f-b0ac-92c218e64393"
      },
      "execution_count": 265,
      "outputs": [
        {
          "output_type": "execute_result",
          "data": {
            "text/plain": [
              "(9656, 14)"
            ]
          },
          "metadata": {},
          "execution_count": 265
        }
      ]
    },
    {
      "cell_type": "markdown",
      "source": [
        "FInally we have:\n",
        "No of Rows: 9656\n",
        "No of Columns:15"
      ],
      "metadata": {
        "id": "bO-62xnlArSf"
      }
    },
    {
      "cell_type": "markdown",
      "source": [
        "Now the dataset is ready for Analysis!"
      ],
      "metadata": {
        "id": "FXSZKoR4CYKP"
      }
    },
    {
      "cell_type": "markdown",
      "source": [
        "This is the final data information:"
      ],
      "metadata": {
        "id": "u4beOPhmD4c4"
      }
    },
    {
      "cell_type": "code",
      "source": [
        "printinfo()"
      ],
      "metadata": {
        "colab": {
          "base_uri": "https://localhost:8080/",
          "height": 488
        },
        "id": "yYkdbEXqDzQd",
        "outputId": "7a328a25-80d9-4767-ad57-0cd4ca36319a"
      },
      "execution_count": 266,
      "outputs": [
        {
          "output_type": "execute_result",
          "data": {
            "text/plain": [
              "                 data_type  null_count  unique_count\n",
              "App                 object           0          9656\n",
              "Category            object           0            33\n",
              "Rating             float64           0            39\n",
              "Reviews              int64           0          5327\n",
              "Size               float64           0           182\n",
              "Downloads            int64           0            20\n",
              "Type                object           0             2\n",
              "Price              float64           0            92\n",
              "Content Rating      object           0             6\n",
              "Update Frequency     int64           0           100\n",
              "Advertisements      object           0             2\n",
              "Time Stamp          object           0            24\n",
              "Date                 int64           0            31\n",
              "Month                int64           0            12"
            ],
            "text/html": [
              "\n",
              "  <div id=\"df-f867834e-b322-4404-875d-dc3e899163a8\">\n",
              "    <div class=\"colab-df-container\">\n",
              "      <div>\n",
              "<style scoped>\n",
              "    .dataframe tbody tr th:only-of-type {\n",
              "        vertical-align: middle;\n",
              "    }\n",
              "\n",
              "    .dataframe tbody tr th {\n",
              "        vertical-align: top;\n",
              "    }\n",
              "\n",
              "    .dataframe thead th {\n",
              "        text-align: right;\n",
              "    }\n",
              "</style>\n",
              "<table border=\"1\" class=\"dataframe\">\n",
              "  <thead>\n",
              "    <tr style=\"text-align: right;\">\n",
              "      <th></th>\n",
              "      <th>data_type</th>\n",
              "      <th>null_count</th>\n",
              "      <th>unique_count</th>\n",
              "    </tr>\n",
              "  </thead>\n",
              "  <tbody>\n",
              "    <tr>\n",
              "      <th>App</th>\n",
              "      <td>object</td>\n",
              "      <td>0</td>\n",
              "      <td>9656</td>\n",
              "    </tr>\n",
              "    <tr>\n",
              "      <th>Category</th>\n",
              "      <td>object</td>\n",
              "      <td>0</td>\n",
              "      <td>33</td>\n",
              "    </tr>\n",
              "    <tr>\n",
              "      <th>Rating</th>\n",
              "      <td>float64</td>\n",
              "      <td>0</td>\n",
              "      <td>39</td>\n",
              "    </tr>\n",
              "    <tr>\n",
              "      <th>Reviews</th>\n",
              "      <td>int64</td>\n",
              "      <td>0</td>\n",
              "      <td>5327</td>\n",
              "    </tr>\n",
              "    <tr>\n",
              "      <th>Size</th>\n",
              "      <td>float64</td>\n",
              "      <td>0</td>\n",
              "      <td>182</td>\n",
              "    </tr>\n",
              "    <tr>\n",
              "      <th>Downloads</th>\n",
              "      <td>int64</td>\n",
              "      <td>0</td>\n",
              "      <td>20</td>\n",
              "    </tr>\n",
              "    <tr>\n",
              "      <th>Type</th>\n",
              "      <td>object</td>\n",
              "      <td>0</td>\n",
              "      <td>2</td>\n",
              "    </tr>\n",
              "    <tr>\n",
              "      <th>Price</th>\n",
              "      <td>float64</td>\n",
              "      <td>0</td>\n",
              "      <td>92</td>\n",
              "    </tr>\n",
              "    <tr>\n",
              "      <th>Content Rating</th>\n",
              "      <td>object</td>\n",
              "      <td>0</td>\n",
              "      <td>6</td>\n",
              "    </tr>\n",
              "    <tr>\n",
              "      <th>Update Frequency</th>\n",
              "      <td>int64</td>\n",
              "      <td>0</td>\n",
              "      <td>100</td>\n",
              "    </tr>\n",
              "    <tr>\n",
              "      <th>Advertisements</th>\n",
              "      <td>object</td>\n",
              "      <td>0</td>\n",
              "      <td>2</td>\n",
              "    </tr>\n",
              "    <tr>\n",
              "      <th>Time Stamp</th>\n",
              "      <td>object</td>\n",
              "      <td>0</td>\n",
              "      <td>24</td>\n",
              "    </tr>\n",
              "    <tr>\n",
              "      <th>Date</th>\n",
              "      <td>int64</td>\n",
              "      <td>0</td>\n",
              "      <td>31</td>\n",
              "    </tr>\n",
              "    <tr>\n",
              "      <th>Month</th>\n",
              "      <td>int64</td>\n",
              "      <td>0</td>\n",
              "      <td>12</td>\n",
              "    </tr>\n",
              "  </tbody>\n",
              "</table>\n",
              "</div>\n",
              "      <button class=\"colab-df-convert\" onclick=\"convertToInteractive('df-f867834e-b322-4404-875d-dc3e899163a8')\"\n",
              "              title=\"Convert this dataframe to an interactive table.\"\n",
              "              style=\"display:none;\">\n",
              "        \n",
              "  <svg xmlns=\"http://www.w3.org/2000/svg\" height=\"24px\"viewBox=\"0 0 24 24\"\n",
              "       width=\"24px\">\n",
              "    <path d=\"M0 0h24v24H0V0z\" fill=\"none\"/>\n",
              "    <path d=\"M18.56 5.44l.94 2.06.94-2.06 2.06-.94-2.06-.94-.94-2.06-.94 2.06-2.06.94zm-11 1L8.5 8.5l.94-2.06 2.06-.94-2.06-.94L8.5 2.5l-.94 2.06-2.06.94zm10 10l.94 2.06.94-2.06 2.06-.94-2.06-.94-.94-2.06-.94 2.06-2.06.94z\"/><path d=\"M17.41 7.96l-1.37-1.37c-.4-.4-.92-.59-1.43-.59-.52 0-1.04.2-1.43.59L10.3 9.45l-7.72 7.72c-.78.78-.78 2.05 0 2.83L4 21.41c.39.39.9.59 1.41.59.51 0 1.02-.2 1.41-.59l7.78-7.78 2.81-2.81c.8-.78.8-2.07 0-2.86zM5.41 20L4 18.59l7.72-7.72 1.47 1.35L5.41 20z\"/>\n",
              "  </svg>\n",
              "      </button>\n",
              "      \n",
              "  <style>\n",
              "    .colab-df-container {\n",
              "      display:flex;\n",
              "      flex-wrap:wrap;\n",
              "      gap: 12px;\n",
              "    }\n",
              "\n",
              "    .colab-df-convert {\n",
              "      background-color: #E8F0FE;\n",
              "      border: none;\n",
              "      border-radius: 50%;\n",
              "      cursor: pointer;\n",
              "      display: none;\n",
              "      fill: #1967D2;\n",
              "      height: 32px;\n",
              "      padding: 0 0 0 0;\n",
              "      width: 32px;\n",
              "    }\n",
              "\n",
              "    .colab-df-convert:hover {\n",
              "      background-color: #E2EBFA;\n",
              "      box-shadow: 0px 1px 2px rgba(60, 64, 67, 0.3), 0px 1px 3px 1px rgba(60, 64, 67, 0.15);\n",
              "      fill: #174EA6;\n",
              "    }\n",
              "\n",
              "    [theme=dark] .colab-df-convert {\n",
              "      background-color: #3B4455;\n",
              "      fill: #D2E3FC;\n",
              "    }\n",
              "\n",
              "    [theme=dark] .colab-df-convert:hover {\n",
              "      background-color: #434B5C;\n",
              "      box-shadow: 0px 1px 3px 1px rgba(0, 0, 0, 0.15);\n",
              "      filter: drop-shadow(0px 1px 2px rgba(0, 0, 0, 0.3));\n",
              "      fill: #FFFFFF;\n",
              "    }\n",
              "  </style>\n",
              "\n",
              "      <script>\n",
              "        const buttonEl =\n",
              "          document.querySelector('#df-f867834e-b322-4404-875d-dc3e899163a8 button.colab-df-convert');\n",
              "        buttonEl.style.display =\n",
              "          google.colab.kernel.accessAllowed ? 'block' : 'none';\n",
              "\n",
              "        async function convertToInteractive(key) {\n",
              "          const element = document.querySelector('#df-f867834e-b322-4404-875d-dc3e899163a8');\n",
              "          const dataTable =\n",
              "            await google.colab.kernel.invokeFunction('convertToInteractive',\n",
              "                                                     [key], {});\n",
              "          if (!dataTable) return;\n",
              "\n",
              "          const docLinkHtml = 'Like what you see? Visit the ' +\n",
              "            '<a target=\"_blank\" href=https://colab.research.google.com/notebooks/data_table.ipynb>data table notebook</a>'\n",
              "            + ' to learn more about interactive tables.';\n",
              "          element.innerHTML = '';\n",
              "          dataTable['output_type'] = 'display_data';\n",
              "          await google.colab.output.renderOutput(dataTable, element);\n",
              "          const docLink = document.createElement('div');\n",
              "          docLink.innerHTML = docLinkHtml;\n",
              "          element.appendChild(docLink);\n",
              "        }\n",
              "      </script>\n",
              "    </div>\n",
              "  </div>\n",
              "  "
            ]
          },
          "metadata": {},
          "execution_count": 266
        }
      ]
    },
    {
      "cell_type": "code",
      "source": [
        "df.hist(color='orange',edgecolor='white')"
      ],
      "metadata": {
        "colab": {
          "base_uri": "https://localhost:8080/",
          "height": 455
        },
        "id": "wgEyzPU8Etxi",
        "outputId": "a2bdb0eb-e9bc-4163-a3ba-cdb92d7c7a93"
      },
      "execution_count": 267,
      "outputs": [
        {
          "output_type": "execute_result",
          "data": {
            "text/plain": [
              "array([[<matplotlib.axes._subplots.AxesSubplot object at 0x7fdba0797a90>,\n",
              "        <matplotlib.axes._subplots.AxesSubplot object at 0x7fdba0792c90>,\n",
              "        <matplotlib.axes._subplots.AxesSubplot object at 0x7fdba080abd0>],\n",
              "       [<matplotlib.axes._subplots.AxesSubplot object at 0x7fdba0802690>,\n",
              "        <matplotlib.axes._subplots.AxesSubplot object at 0x7fdba07f8b50>,\n",
              "        <matplotlib.axes._subplots.AxesSubplot object at 0x7fdba07efdd0>],\n",
              "       [<matplotlib.axes._subplots.AxesSubplot object at 0x7fdba07e70d0>,\n",
              "        <matplotlib.axes._subplots.AxesSubplot object at 0x7fdba07dfad0>,\n",
              "        <matplotlib.axes._subplots.AxesSubplot object at 0x7fdba07dfa90>]],\n",
              "      dtype=object)"
            ]
          },
          "metadata": {},
          "execution_count": 267
        },
        {
          "output_type": "display_data",
          "data": {
            "text/plain": [
              "<Figure size 432x288 with 9 Axes>"
            ],
            "image/png": "[encoded data removed]"
          },
          "metadata": {
            "needs_background": "light"
          }
        }
      ]
    },
    {
      "cell_type": "markdown",
      "source": [
        "#Exploratory Data Analysis and Visualisation"
      ],
      "metadata": {
        "id": "tXIB-YvBCkLi"
      }
    },
    {
      "cell_type": "markdown",
      "source": [
        "**CORRELATION BETWEEN NUMERIC ATTRIBUTES**"
      ],
      "metadata": {
        "id": "QNeozTvLBQ0z"
      }
    },
    {
      "cell_type": "code",
      "source": [
        "plt.figure(figsize=(15,15))\n",
        "sns.set_context('paper',font_scale=1)\n",
        "playStoreAll=df.corr()\n",
        "playStoreAll\n",
        "sns.heatmap(playStoreAll,annot=True,cmap='Oranges',linecolor='white',linewidths=2)"
      ],
      "metadata": {
        "colab": {
          "base_uri": "https://localhost:8080/",
          "height": 884
        },
        "id": "5HLCYkL_BV3d",
        "outputId": "59be81ba-9287-4514-8edd-c0a2f7fc507a"
      },
      "execution_count": 297,
      "outputs": [
        {
          "output_type": "execute_result",
          "data": {
            "text/plain": [
              "<matplotlib.axes._subplots.AxesSubplot at 0x7fdbaaeffed0>"
            ]
          },
          "metadata": {},
          "execution_count": 297
        },
        {
          "output_type": "display_data",
          "data": {
            "text/plain": [
              "<Figure size 1080x1080 with 2 Axes>"
            ],
            "image/png": "[encoded data removed]"
          },
          "metadata": {
            "needs_background": "light"
          }
        }
      ]
    },
    {
      "cell_type": "markdown",
      "source": [
        "**1.To know the count of applications as per their user type.**"
      ],
      "metadata": {
        "id": "iWyvSgnkO6h_"
      }
    },
    {
      "cell_type": "code",
      "source": [
        "x2 = df['Content Rating'].value_counts().index\n",
        "y2 = df['Content Rating'].value_counts()\n",
        "\n",
        "x2sis = []\n",
        "y2sis = []\n",
        "for i in range(len(x2)):\n",
        "    x2sis.append(x2[i])\n",
        "    y2sis.append(y2[i])"
      ],
      "metadata": {
        "id": "U-iX7bIAC30t"
      },
      "execution_count": 268,
      "outputs": []
    },
    {
      "cell_type": "code",
      "source": [
        "plt.figure(figsize=(12,10))\n",
        "plt.bar(x2sis,y2sis,width=0.8,color=['#15244C','#FFFF48','#292734','#EF2920','#CD202D','#ECC5F2'], alpha=0.8);\n",
        "plt.title('count of applications as per their user type.',size = 20);\n",
        "plt.ylabel('Applications(Count)');\n",
        "plt.xlabel('User Tye');\n",
        "plt.show()"
      ],
      "metadata": {
        "colab": {
          "base_uri": "https://localhost:8080/",
          "height": 627
        },
        "id": "Sv95yc6oO1Gl",
        "outputId": "1128c4c2-b06d-4ec6-8a49-bc7d6fa5742c"
      },
      "execution_count": 269,
      "outputs": [
        {
          "output_type": "display_data",
          "data": {
            "text/plain": [
              "<Figure size 864x720 with 1 Axes>"
            ],
            "image/png": "[encoded data removed]"
          },
          "metadata": {
            "needs_background": "light"
          }
        }
      ]
    },
    {
      "cell_type": "markdown",
      "source": [
        "**Inference:**\n",
        "\n",
        "The applications that are under everyone’s use include music, social media, navigation etc. They are widely used by all and sundry everyday. Hence, there are more number of applications under the user type ‘everyone’. "
      ],
      "metadata": {
        "id": "XSWX0WhRPVhp"
      }
    },
    {
      "cell_type": "markdown",
      "source": [
        "**2.Applications with highest earning**"
      ],
      "metadata": {
        "id": "R9v0kbO6PsCM"
      }
    },
    {
      "cell_type": "code",
      "source": [
        "Paid_Apps_df = df[df['Type'] == 'Paid']"
      ],
      "metadata": {
        "id": "8sPeiAotPVM5"
      },
      "execution_count": 270,
      "outputs": []
    },
    {
      "cell_type": "code",
      "source": [
        "earning_df = Paid_Apps_df[['App', 'Downloads', 'Price']]"
      ],
      "metadata": {
        "id": "iZ7Nu-abSeeR"
      },
      "execution_count": 271,
      "outputs": []
    },
    {
      "cell_type": "code",
      "source": [
        "earning_df['Earnings'] = earning_df['Downloads'] * earning_df['Price'];"
      ],
      "metadata": {
        "id": "vnPWreOJSsz-"
      },
      "execution_count": 272,
      "outputs": []
    },
    {
      "cell_type": "code",
      "source": [
        "earning_df_sorted_by_Earnings = earning_df.sort_values(by='Earnings', ascending=False).head(50)"
      ],
      "metadata": {
        "id": "R4u3M_L_SyVk"
      },
      "execution_count": 273,
      "outputs": []
    },
    {
      "cell_type": "code",
      "source": [
        "earning_df_sorted_by_Price = earning_df_sorted_by_Earnings.sort_values(by='Price', ascending=False)"
      ],
      "metadata": {
        "id": "QJKIwmWES4W3"
      },
      "execution_count": 274,
      "outputs": []
    },
    {
      "cell_type": "code",
      "source": [
        "\n",
        "plt.figure(figsize=(15,9))\n",
        "plt.bar(earning_df_sorted_by_Price.App, earning_df_sorted_by_Price.Earnings, width=1.1, label=earning_df_sorted_by_Price.Earnings,edgecolor='white')\n",
        "plt.xlabel(\"Apps\")\n",
        "plt.ylabel(\"Earnings\")\n",
        "plt.tick_params(rotation=90)\n",
        "plt.title('Top Earning Apps',size = 20);"
      ],
      "metadata": {
        "colab": {
          "base_uri": "https://localhost:8080/",
          "height": 841
        },
        "id": "wSMDfBv3S9bO",
        "outputId": "ade80528-d43d-458e-f9d3-9bde0f15f81e"
      },
      "execution_count": 275,
      "outputs": [
        {
          "output_type": "display_data",
          "data": {
            "text/plain": [
              "<Figure size 1080x648 with 1 Axes>"
            ],
            "image/png": "[encoded data removed]"
          },
          "metadata": {
            "needs_background": "light"
          }
        }
      ]
    },
    {
      "cell_type": "markdown",
      "source": [
        "**Inference:**\n",
        "\n",
        "Of all the paid applications, Minecraft is the highest earning application because of its versatility, creativity and quirky graphics with which it attracts more users."
      ],
      "metadata": {
        "id": "MeKmAvt8UmmM"
      }
    },
    {
      "cell_type": "markdown",
      "source": [
        "**3.Range in which most application Reviews lie**"
      ],
      "metadata": {
        "id": "_AiJ-OUhUqKT"
      }
    },
    {
      "cell_type": "code",
      "source": [
        "fig = plt.figure(figsize=(10,9)) \n",
        "graph = sns.kdeplot(df.Rating, color=\"blue\", shade = True)\n",
        "graph.set_xlabel(\"Rating\")\n",
        "graph.set_ylabel(\"Frequency\")\n",
        "plt.title('Distribution of Rating',size = 20)"
      ],
      "metadata": {
        "colab": {
          "base_uri": "https://localhost:8080/",
          "height": 589
        },
        "id": "hKk9OZ8sU6nk",
        "outputId": "4d839db6-9dd4-4feb-bb17-4a250d5dae83"
      },
      "execution_count": 276,
      "outputs": [
        {
          "output_type": "execute_result",
          "data": {
            "text/plain": [
              "Text(0.5, 1.0, 'Distribution of Rating')"
            ]
          },
          "metadata": {},
          "execution_count": 276
        },
        {
          "output_type": "display_data",
          "data": {
            "text/plain": [
              "<Figure size 720x648 with 1 Axes>"
            ],
            "image/png": "[encoded data removed]"
          },
          "metadata": {
            "needs_background": "light"
          }
        }
      ]
    },
    {
      "cell_type": "markdown",
      "source": [
        "**Inference:**\n",
        "From the graph, it is inferred that majority of the applications are rated between 4.0 and 4.5. This indicates that majority of applications are user satisfactory. The applications with ratings below 3.5 are not upto to the users expectations."
      ],
      "metadata": {
        "id": "1LdKnj4wVAbf"
      }
    },
    {
      "cell_type": "markdown",
      "source": [
        "**4.Distribution Of paid and free applications in Play Store**"
      ],
      "metadata": {
        "id": "3hr26EgIVIoJ"
      }
    },
    {
      "cell_type": "code",
      "source": [
        "plt.figure(figsize=(10,10))\n",
        "labels = df['Type'].value_counts(sort = True).index\n",
        "sizes = df['Type'].value_counts(sort = True)\n",
        "colors = [\"darkgreen\",\"yellow\"]\n",
        "explode = (0.2,0)\n",
        "plt.pie(sizes, explode=explode, labels=labels, colors=colors, autopct='%1.1f%%', shadow=True, startangle=0)\n",
        "plt.title('Percent of Free Vs Paid Applications in Play store',size = 20)\n",
        "plt.show()"
      ],
      "metadata": {
        "colab": {
          "base_uri": "https://localhost:8080/",
          "height": 596
        },
        "id": "MPjcVmNhVeaZ",
        "outputId": "e82dae7f-5775-4aab-b112-eb2fabf474c2"
      },
      "execution_count": 277,
      "outputs": [
        {
          "output_type": "display_data",
          "data": {
            "text/plain": [
              "<Figure size 720x720 with 1 Axes>"
            ],
            "image/png": "[encoded data removed]"
          },
          "metadata": {}
        }
      ]
    },
    {
      "cell_type": "markdown",
      "source": [
        "**Inference:**\n",
        "\n",
        "This chart tells us that majority of users prefer free applications over paid applications as they do not wish to spend money to access these applications.\n",
        "\n",
        "Moreover, most of the paid applications are expensive due to which many of the users cannot afford them. Hence, they are lesser in count than that of free applications.\n"
      ],
      "metadata": {
        "id": "U9X3b6NgV0XR"
      }
    },
    {
      "cell_type": "markdown",
      "source": [
        "**5.To know number of applications that are free and paid in each category**"
      ],
      "metadata": {
        "id": "aR0AGGjGV0r4"
      }
    },
    {
      "cell_type": "code",
      "source": [
        "arr=np.array(['Free', 'Paid'], dtype=object)"
      ],
      "metadata": {
        "id": "pdMd8jTlWwll"
      },
      "execution_count": 278,
      "outputs": []
    },
    {
      "cell_type": "code",
      "source": [
        "print(df.groupby('Category')['Type'].value_counts())\n",
        "Type_cat = df.groupby('Category')['Type'].value_counts().unstack().plot.barh(figsize=(10,20), width=0.7)\n",
        "plt.xlabel(\"Downloads\")\n",
        "plt.title('Category Vs Number of downloads',size = 20);\n",
        "plt.show()"
      ],
      "metadata": {
        "colab": {
          "base_uri": "https://localhost:8080/",
          "height": 1000
        },
        "id": "dP5i4mIHW1p2",
        "outputId": "43c627a5-9168-41bc-cd5d-e9ed46125d99"
      },
      "execution_count": 279,
      "outputs": [
        {
          "output_type": "stream",
          "name": "stdout",
          "text": [
            "Category           Type\n",
            "ART_AND_DESIGN     Free     61\n",
            "                   Paid      3\n",
            "AUTO_AND_VEHICLES  Free     82\n",
            "                   Paid      3\n",
            "BEAUTY             Free     53\n",
            "                          ... \n",
            "TRAVEL_AND_LOCAL   Paid     12\n",
            "VIDEO_PLAYERS      Free    159\n",
            "                   Paid      4\n",
            "WEATHER            Free     71\n",
            "                   Paid      8\n",
            "Name: Type, Length: 63, dtype: int64\n"
          ]
        },
        {
          "output_type": "display_data",
          "data": {
            "text/plain": [
              "<Figure size 720x1440 with 1 Axes>"
            ],
            "image/png": "[encoded data removed]"
          },
          "metadata": {
            "needs_background": "light"
          }
        }
      ]
    },
    {
      "cell_type": "markdown",
      "source": [
        "**Inference:**\n",
        "\n",
        "\n",
        "With 183 paid applications, Family is the category with the highest number of paid applications \n",
        "With 1647 free applications It is also the category with the highest number of free applications \n",
        "With 876 and 749 free applications respectively, the Game and Tools stand next to the Family with respect to number of free applications.\n",
        "\n",
        "\n"
      ],
      "metadata": {
        "id": "jSoOTnTCV0zC"
      }
    },
    {
      "cell_type": "markdown",
      "source": [
        "**6.To know which category has the highest number of downloads in Play Store**"
      ],
      "metadata": {
        "id": "7lt-NepIV0jp"
      }
    },
    {
      "cell_type": "code",
      "source": [
        "downloads = df.groupby('Category')[['Downloads']].sum().sort_values(by='Downloads', ascending=False)"
      ],
      "metadata": {
        "id": "72_RFEokVpva"
      },
      "execution_count": 280,
      "outputs": []
    },
    {
      "cell_type": "code",
      "source": [
        "x2sis = []\n",
        "y2sis = []\n",
        "\n",
        "for i in range(len(downloads)):\n",
        "    x2sis.append(downloads.Downloads[i])\n",
        "    y2sis.append(downloads.index[i])\n",
        "\n",
        "plt.figure(figsize=(18,13))\n",
        "\n",
        "plt.xlabel(\"Downloads\")\n",
        "plt.ylabel(\"Category\")\n",
        "graph = sns.barplot(x = x2sis, y = y2sis, alpha =0.9, palette= \"viridis\")\n",
        "graph.set_title(\"Category-wise downloads\", fontsize = 25);"
      ],
      "metadata": {
        "colab": {
          "base_uri": "https://localhost:8080/",
          "height": 667
        },
        "id": "HJcu4twpWOh3",
        "outputId": "6ba5dce5-4a2c-4bba-f8b6-0202eaec08f9"
      },
      "execution_count": 281,
      "outputs": [
        {
          "output_type": "display_data",
          "data": {
            "text/plain": [
              "<Figure size 1296x936 with 1 Axes>"
            ],
            "image/png": "[encoded data removed]"
          },
          "metadata": {
            "needs_background": "light"
          }
        }
      ]
    },
    {
      "cell_type": "markdown",
      "source": [
        "**Inference:**\n",
        "\n",
        "When it comes to the number of downloads, the category 'Game' acquires the first position \n",
        "and can be called as the highest downloaded category. \n",
        "\n",
        "\n",
        "It is then followed by \n",
        "Communication, Tools, Productivity, and Social.\n",
        "\n",
        "\n",
        "**This shows that majority of users are interested in Gaming category.**\n",
        "\n",
        "\n",
        "It's more likely that users might range between **teenagers to mid 20s**. \n",
        "\n",
        "\n",
        "Very minimum downloads has been from the category Events."
      ],
      "metadata": {
        "id": "UHhKo1d5WAN9"
      }
    },
    {
      "cell_type": "markdown",
      "source": [
        "**7.To know relation between Category and the count of application**"
      ],
      "metadata": {
        "id": "Umeb9ZHPV03o"
      }
    },
    {
      "cell_type": "code",
      "source": [
        "plt.figure(figsize=(10,10))\n",
        "plt.pie(df['Category'].value_counts(),labels=df['Category'].value_counts().keys(),autopct='%0.1f%%')\n",
        "plt.title('Distribution Of Applications based on Category',size = 20)\n",
        "plt.show()\n",
        "df['Category'].value_counts()"
      ],
      "metadata": {
        "id": "n_gcGy6_V0B8",
        "colab": {
          "base_uri": "https://localhost:8080/",
          "height": 1000
        },
        "outputId": "63692cc0-96a1-447e-fd09-0bc2faca4f00"
      },
      "execution_count": 282,
      "outputs": [
        {
          "output_type": "display_data",
          "data": {
            "text/plain": [
              "<Figure size 720x720 with 1 Axes>"
            ],
            "image/png": "[encoded data removed]"
          },
          "metadata": {}
        },
        {
          "output_type": "execute_result",
          "data": {
            "text/plain": [
              "FAMILY                 1830\n",
              "GAME                    958\n",
              "TOOLS                   827\n",
              "BUSINESS                420\n",
              "MEDICAL                 395\n",
              "PERSONALIZATION         376\n",
              "PRODUCTIVITY            374\n",
              "LIFESTYLE               369\n",
              "FINANCE                 345\n",
              "SPORTS                  325\n",
              "COMMUNICATION           315\n",
              "HEALTH_AND_FITNESS      288\n",
              "PHOTOGRAPHY             281\n",
              "NEWS_AND_MAGAZINES      254\n",
              "SOCIAL                  239\n",
              "BOOKS_AND_REFERENCE     222\n",
              "TRAVEL_AND_LOCAL        219\n",
              "SHOPPING                202\n",
              "DATING                  171\n",
              "VIDEO_PLAYERS           163\n",
              "MAPS_AND_NAVIGATION     131\n",
              "EDUCATION               119\n",
              "FOOD_AND_DRINK          112\n",
              "ENTERTAINMENT           102\n",
              "AUTO_AND_VEHICLES        85\n",
              "LIBRARIES_AND_DEMO       84\n",
              "WEATHER                  79\n",
              "HOUSE_AND_HOME           74\n",
              "EVENTS                   64\n",
              "ART_AND_DESIGN           64\n",
              "PARENTING                60\n",
              "COMICS                   56\n",
              "BEAUTY                   53\n",
              "Name: Category, dtype: int64"
            ]
          },
          "metadata": {},
          "execution_count": 282
        }
      ]
    },
    {
      "cell_type": "markdown",
      "source": [
        "**Inferences:**\n",
        "\n",
        "This chart displays all the categories, partitioned according to the proportions \n",
        "of their quantity."
      ],
      "metadata": {
        "id": "hhhKuC213Cm6"
      }
    },
    {
      "cell_type": "markdown",
      "source": [
        "Top 5 categories based on highest application count"
      ],
      "metadata": {
        "id": "t-Ad_WYZNjNw"
      }
    },
    {
      "cell_type": "code",
      "source": [
        "df['Category'].value_counts().head()"
      ],
      "metadata": {
        "colab": {
          "base_uri": "https://localhost:8080/"
        },
        "id": "B4puc9sofUe0",
        "outputId": "ce66034a-bcf9-426a-801b-8a6ec64eaad4"
      },
      "execution_count": 283,
      "outputs": [
        {
          "output_type": "execute_result",
          "data": {
            "text/plain": [
              "FAMILY      1830\n",
              "GAME         958\n",
              "TOOLS        827\n",
              "BUSINESS     420\n",
              "MEDICAL      395\n",
              "Name: Category, dtype: int64"
            ]
          },
          "metadata": {},
          "execution_count": 283
        }
      ]
    },
    {
      "cell_type": "code",
      "source": [
        "plt.figure(figsize=(8,6))\n",
        "plt.bar(df['Category'].value_counts()[0:5].keys(),df['Category'].value_counts()[0:5],color=['red','green','yellow','blue'])\n",
        "plt.title(\"Category vs No of applications\")\n",
        "plt.xlabel(\"Category\")\n",
        "plt.ylabel(\"No of Applications\")\n",
        "plt.show()"
      ],
      "metadata": {
        "colab": {
          "base_uri": "https://localhost:8080/",
          "height": 404
        },
        "id": "yarrSYsk267B",
        "outputId": "2eb1ac58-f16d-489c-fa53-d84a474795e5"
      },
      "execution_count": 284,
      "outputs": [
        {
          "output_type": "display_data",
          "data": {
            "text/plain": [
              "<Figure size 576x432 with 1 Axes>"
            ],
            "image/png": "[encoded data removed]"
          },
          "metadata": {
            "needs_background": "light"
          }
        }
      ]
    },
    {
      "cell_type": "markdown",
      "source": [
        "Inference:\n",
        "\n",
        "The category ‘Family’ has the most number of applications as in majority of households, there will be at least one kid and many users use it. More active mobile users are the youngsters and they are interested in playing games, so it contains the second largest number of applications. Next are the categories of Tools, finance and lifestyle.\n"
      ],
      "metadata": {
        "id": "6VY9lzGnn0HT"
      }
    },
    {
      "cell_type": "markdown",
      "source": [
        "Ratings of applications that have the highest number reviews fro the highest count applications"
      ],
      "metadata": {
        "id": "h0keifNpqb0h"
      }
    },
    {
      "cell_type": "markdown",
      "source": [
        "CATEGORY: FAMILY "
      ],
      "metadata": {
        "id": "y7naVhtkP31Y"
      }
    },
    {
      "cell_type": "code",
      "source": [
        "\n",
        "fam=df[df['Category']=='FAMILY']\n",
        "fam=fam.sort_values(by=['Rating'])\n",
        "fam=fam.tail()\n",
        "fam.iloc[::-1].loc[:, ['App', 'Rating']].style.hide_index()\n"
      ],
      "metadata": {
        "colab": {
          "base_uri": "https://localhost:8080/",
          "height": 206
        },
        "id": "IllfSX3JAsLS",
        "outputId": "26562284-0632-4044-869e-c14d6501433d"
      },
      "execution_count": 285,
      "outputs": [
        {
          "output_type": "execute_result",
          "data": {
            "text/plain": [
              "<pandas.io.formats.style.Styler at 0x7fdba030cdd0>"
            ],
            "text/html": [
              "<style type=\"text/css\">\n",
              "</style>\n",
              "<table id=\"T_6c45f_\" class=\"dataframe\">\n",
              "  <thead>\n",
              "    <tr>\n",
              "      <th class=\"col_heading level0 col0\" >App</th>\n",
              "      <th class=\"col_heading level0 col1\" >Rating</th>\n",
              "    </tr>\n",
              "  </thead>\n",
              "  <tbody>\n",
              "    <tr>\n",
              "      <td id=\"T_6c45f_row0_col0\" class=\"data row0 col0\" >Fr. Mike Schmitz Audio Teachings</td>\n",
              "      <td id=\"T_6c45f_row0_col1\" class=\"data row0 col1\" >5.000000</td>\n",
              "    </tr>\n",
              "    <tr>\n",
              "      <td id=\"T_6c45f_row1_col0\" class=\"data row1 col0\" >Safe Santa Fe</td>\n",
              "      <td id=\"T_6c45f_row1_col1\" class=\"data row1 col1\" >5.000000</td>\n",
              "    </tr>\n",
              "    <tr>\n",
              "      <td id=\"T_6c45f_row2_col0\" class=\"data row2 col0\" >BM SPM Practice</td>\n",
              "      <td id=\"T_6c45f_row2_col1\" class=\"data row2 col1\" >5.000000</td>\n",
              "    </tr>\n",
              "    <tr>\n",
              "      <td id=\"T_6c45f_row3_col0\" class=\"data row3 col0\" >WPBS-DT</td>\n",
              "      <td id=\"T_6c45f_row3_col1\" class=\"data row3 col1\" >5.000000</td>\n",
              "    </tr>\n",
              "    <tr>\n",
              "      <td id=\"T_6c45f_row4_col0\" class=\"data row4 col0\" >COMSATS BOOK STORE FOR BS(CS)</td>\n",
              "      <td id=\"T_6c45f_row4_col1\" class=\"data row4 col1\" >5.000000</td>\n",
              "    </tr>\n",
              "  </tbody>\n",
              "</table>\n"
            ]
          },
          "metadata": {},
          "execution_count": 285
        }
      ]
    },
    {
      "cell_type": "markdown",
      "source": [
        "CATEGORY: GAME"
      ],
      "metadata": {
        "id": "GDt3UW5MoMU3"
      }
    },
    {
      "cell_type": "code",
      "source": [
        "game=df[df['Category']=='GAME']\n",
        "game=game.sort_values(by=['Rating'])\n",
        "game=game.tail()\n",
        "game.iloc[::-1].loc[:, ['App', 'Rating']].style.hide_index()"
      ],
      "metadata": {
        "colab": {
          "base_uri": "https://localhost:8080/",
          "height": 206
        },
        "id": "j_AC_uCRoPFo",
        "outputId": "c21b971b-51ee-4111-bc79-aaac64323191"
      },
      "execution_count": 286,
      "outputs": [
        {
          "output_type": "execute_result",
          "data": {
            "text/plain": [
              "<pandas.io.formats.style.Styler at 0x7fdba0440b10>"
            ],
            "text/html": [
              "<style type=\"text/css\">\n",
              "</style>\n",
              "<table id=\"T_06441_\" class=\"dataframe\">\n",
              "  <thead>\n",
              "    <tr>\n",
              "      <th class=\"col_heading level0 col0\" >App</th>\n",
              "      <th class=\"col_heading level0 col1\" >Rating</th>\n",
              "    </tr>\n",
              "  </thead>\n",
              "  <tbody>\n",
              "    <tr>\n",
              "      <td id=\"T_06441_row0_col0\" class=\"data row0 col0\" >Axe Champs! Wars</td>\n",
              "      <td id=\"T_06441_row0_col1\" class=\"data row0 col1\" >5.000000</td>\n",
              "    </tr>\n",
              "    <tr>\n",
              "      <td id=\"T_06441_row1_col0\" class=\"data row1 col0\" >Mad Dash Fo' Cash</td>\n",
              "      <td id=\"T_06441_row1_col1\" class=\"data row1 col1\" >5.000000</td>\n",
              "    </tr>\n",
              "    <tr>\n",
              "      <td id=\"T_06441_row2_col0\" class=\"data row2 col0\" >Santa's Monster Shootout DX</td>\n",
              "      <td id=\"T_06441_row2_col1\" class=\"data row2 col1\" >5.000000</td>\n",
              "    </tr>\n",
              "    <tr>\n",
              "      <td id=\"T_06441_row3_col0\" class=\"data row3 col0\" >211:CK</td>\n",
              "      <td id=\"T_06441_row3_col1\" class=\"data row3 col1\" >5.000000</td>\n",
              "    </tr>\n",
              "    <tr>\n",
              "      <td id=\"T_06441_row4_col0\" class=\"data row4 col0\" >Ra Ga Ba</td>\n",
              "      <td id=\"T_06441_row4_col1\" class=\"data row4 col1\" >5.000000</td>\n",
              "    </tr>\n",
              "  </tbody>\n",
              "</table>\n"
            ]
          },
          "metadata": {},
          "execution_count": 286
        }
      ]
    },
    {
      "cell_type": "markdown",
      "source": [
        "CATEGORY: TOOLS"
      ],
      "metadata": {
        "id": "CGXEtA1B4QWc"
      }
    },
    {
      "cell_type": "code",
      "source": [
        "tools=df[df['Category']=='TOOLS']\n",
        "tools=tools.sort_values(by=['Rating'])\n",
        "tools=tools.tail()\n",
        "tools.iloc[::-1].loc[:, ['App', 'Rating']].style.hide_index()"
      ],
      "metadata": {
        "colab": {
          "base_uri": "https://localhost:8080/",
          "height": 206
        },
        "id": "GsXD_QcToYCE",
        "outputId": "e865ea1e-4081-4dc5-96dc-54fe3c5d140b"
      },
      "execution_count": 287,
      "outputs": [
        {
          "output_type": "execute_result",
          "data": {
            "text/plain": [
              "<pandas.io.formats.style.Styler at 0x7fdba02c5390>"
            ],
            "text/html": [
              "<style type=\"text/css\">\n",
              "</style>\n",
              "<table id=\"T_88143_\" class=\"dataframe\">\n",
              "  <thead>\n",
              "    <tr>\n",
              "      <th class=\"col_heading level0 col0\" >App</th>\n",
              "      <th class=\"col_heading level0 col1\" >Rating</th>\n",
              "    </tr>\n",
              "  </thead>\n",
              "  <tbody>\n",
              "    <tr>\n",
              "      <td id=\"T_88143_row0_col0\" class=\"data row0 col0\" >CZ Kompas</td>\n",
              "      <td id=\"T_88143_row0_col1\" class=\"data row0 col1\" >5.000000</td>\n",
              "    </tr>\n",
              "    <tr>\n",
              "      <td id=\"T_88143_row1_col0\" class=\"data row1 col0\" >CE Smart</td>\n",
              "      <td id=\"T_88143_row1_col1\" class=\"data row1 col1\" >5.000000</td>\n",
              "    </tr>\n",
              "    <tr>\n",
              "      <td id=\"T_88143_row2_col0\" class=\"data row2 col0\" >CR Tracker for Chests</td>\n",
              "      <td id=\"T_88143_row2_col1\" class=\"data row2 col1\" >5.000000</td>\n",
              "    </tr>\n",
              "    <tr>\n",
              "      <td id=\"T_88143_row3_col0\" class=\"data row3 col0\" >CL REPL</td>\n",
              "      <td id=\"T_88143_row3_col1\" class=\"data row3 col1\" >5.000000</td>\n",
              "    </tr>\n",
              "    <tr>\n",
              "      <td id=\"T_88143_row4_col0\" class=\"data row4 col0\" >BM speed test</td>\n",
              "      <td id=\"T_88143_row4_col1\" class=\"data row4 col1\" >5.000000</td>\n",
              "    </tr>\n",
              "  </tbody>\n",
              "</table>\n"
            ]
          },
          "metadata": {},
          "execution_count": 287
        }
      ]
    },
    {
      "cell_type": "markdown",
      "source": [
        "CATEGORY: PRODUCTIVITY"
      ],
      "metadata": {
        "id": "fG1zvJAHocaZ"
      }
    },
    {
      "cell_type": "code",
      "source": [
        "\n",
        "prod=df[df['Category']=='PRODUCTIVITY']\n",
        "prod=prod.sort_values(by=['Rating'])\n",
        "prod=prod.tail()\n",
        "prod.iloc[::-1].loc[:, ['App', 'Rating']].style.hide_index()"
      ],
      "metadata": {
        "colab": {
          "base_uri": "https://localhost:8080/",
          "height": 206
        },
        "id": "8aw83pGZoe27",
        "outputId": "26784c41-287c-4540-e822-efba5be40ad9"
      },
      "execution_count": 288,
      "outputs": [
        {
          "output_type": "execute_result",
          "data": {
            "text/plain": [
              "<pandas.io.formats.style.Styler at 0x7fdba079cf10>"
            ],
            "text/html": [
              "<style type=\"text/css\">\n",
              "</style>\n",
              "<table id=\"T_877b8_\" class=\"dataframe\">\n",
              "  <thead>\n",
              "    <tr>\n",
              "      <th class=\"col_heading level0 col0\" >App</th>\n",
              "      <th class=\"col_heading level0 col1\" >Rating</th>\n",
              "    </tr>\n",
              "  </thead>\n",
              "  <tbody>\n",
              "    <tr>\n",
              "      <td id=\"T_877b8_row0_col0\" class=\"data row0 col0\" >EB Scanner</td>\n",
              "      <td id=\"T_877b8_row0_col1\" class=\"data row0 col1\" >5.000000</td>\n",
              "    </tr>\n",
              "    <tr>\n",
              "      <td id=\"T_877b8_row1_col0\" class=\"data row1 col0\" >BV Mobile Apps</td>\n",
              "      <td id=\"T_877b8_row1_col1\" class=\"data row1 col1\" >5.000000</td>\n",
              "    </tr>\n",
              "    <tr>\n",
              "      <td id=\"T_877b8_row2_col0\" class=\"data row2 col0\" >DL Image Manager</td>\n",
              "      <td id=\"T_877b8_row2_col1\" class=\"data row2 col1\" >5.000000</td>\n",
              "    </tr>\n",
              "    <tr>\n",
              "      <td id=\"T_877b8_row3_col0\" class=\"data row3 col0\" >Ek Vote</td>\n",
              "      <td id=\"T_877b8_row3_col1\" class=\"data row3 col1\" >5.000000</td>\n",
              "    </tr>\n",
              "    <tr>\n",
              "      <td id=\"T_877b8_row4_col0\" class=\"data row4 col0\" >CJ'S TIRE AND AUTO INC.</td>\n",
              "      <td id=\"T_877b8_row4_col1\" class=\"data row4 col1\" >5.000000</td>\n",
              "    </tr>\n",
              "  </tbody>\n",
              "</table>\n"
            ]
          },
          "metadata": {},
          "execution_count": 288
        }
      ]
    },
    {
      "cell_type": "markdown",
      "source": [
        "CATEGORY: FINANCE"
      ],
      "metadata": {
        "id": "AtiCPCouojP5"
      }
    },
    {
      "cell_type": "code",
      "source": [
        "fin=df[df['Category']=='FINANCE']\n",
        "fin=fin.sort_values(by=['Rating'])\n",
        "fin=fin.tail()\n",
        "fin.iloc[::-1].loc[:, ['App', 'Rating']].style.hide_index()"
      ],
      "metadata": {
        "colab": {
          "base_uri": "https://localhost:8080/",
          "height": 206
        },
        "id": "thv7RUdAomCb",
        "outputId": "27938099-e094-4908-d347-00b1ce66782f"
      },
      "execution_count": 289,
      "outputs": [
        {
          "output_type": "execute_result",
          "data": {
            "text/plain": [
              "<pandas.io.formats.style.Styler at 0x7fdba02cc910>"
            ],
            "text/html": [
              "<style type=\"text/css\">\n",
              "</style>\n",
              "<table id=\"T_04ae8_\" class=\"dataframe\">\n",
              "  <thead>\n",
              "    <tr>\n",
              "      <th class=\"col_heading level0 col0\" >App</th>\n",
              "      <th class=\"col_heading level0 col1\" >Rating</th>\n",
              "    </tr>\n",
              "  </thead>\n",
              "  <tbody>\n",
              "    <tr>\n",
              "      <td id=\"T_04ae8_row0_col0\" class=\"data row0 col0\" >DN Calculators</td>\n",
              "      <td id=\"T_04ae8_row0_col1\" class=\"data row0 col1\" >5.000000</td>\n",
              "    </tr>\n",
              "    <tr>\n",
              "      <td id=\"T_04ae8_row1_col0\" class=\"data row1 col0\" >BI APP</td>\n",
              "      <td id=\"T_04ae8_row1_col1\" class=\"data row1 col1\" >5.000000</td>\n",
              "    </tr>\n",
              "    <tr>\n",
              "      <td id=\"T_04ae8_row2_col0\" class=\"data row2 col0\" >FD Calculator (EMI, SIP, RD & Loan Eligilibility)</td>\n",
              "      <td id=\"T_04ae8_row2_col1\" class=\"data row2 col1\" >5.000000</td>\n",
              "    </tr>\n",
              "    <tr>\n",
              "      <td id=\"T_04ae8_row3_col0\" class=\"data row3 col0\" >CT Checkout</td>\n",
              "      <td id=\"T_04ae8_row3_col1\" class=\"data row3 col1\" >5.000000</td>\n",
              "    </tr>\n",
              "    <tr>\n",
              "      <td id=\"T_04ae8_row4_col0\" class=\"data row4 col0\" >CF</td>\n",
              "      <td id=\"T_04ae8_row4_col1\" class=\"data row4 col1\" >5.000000</td>\n",
              "    </tr>\n",
              "  </tbody>\n",
              "</table>\n"
            ]
          },
          "metadata": {},
          "execution_count": 289
        }
      ]
    },
    {
      "cell_type": "markdown",
      "source": [
        "#Prediction"
      ],
      "metadata": {
        "id": "c74lHpvGGC1z"
      }
    },
    {
      "cell_type": "markdown",
      "source": [
        "**1. For given number of reviews, size of the applications, number of downloads predict the Rating of the application**"
      ],
      "metadata": {
        "id": "w2XtO7-7Zrab"
      }
    },
    {
      "cell_type": "code",
      "source": [
        "from sklearn.model_selection import train_test_split\n",
        "from sklearn.linear_model import LinearRegression"
      ],
      "metadata": {
        "id": "FRQm2RtV7zOF"
      },
      "execution_count": 290,
      "outputs": []
    },
    {
      "cell_type": "code",
      "source": [
        "x = df[['Downloads', 'Reviews','Size']]\n",
        "y = df['Rating']\n",
        "x_test,x_train,y_test,y_train=train_test_split(x,y)\n",
        "lr=LinearRegression()"
      ],
      "metadata": {
        "id": "_80Pf_Fj718T"
      },
      "execution_count": 291,
      "outputs": []
    },
    {
      "cell_type": "code",
      "source": [
        "lr.fit(x_train,y_train)\n",
        "y_pred=lr.predict(x_test)"
      ],
      "metadata": {
        "id": "oeZjVMcE75rM"
      },
      "execution_count": 292,
      "outputs": []
    },
    {
      "cell_type": "code",
      "source": [
        "sns.regplot(y_test,y_pred,data=df)"
      ],
      "metadata": {
        "colab": {
          "base_uri": "https://localhost:8080/",
          "height": 296
        },
        "id": "y8t9s8vF78O9",
        "outputId": "43eff5e4-d382-45aa-ca63-96b9cf987a51"
      },
      "execution_count": 293,
      "outputs": [
        {
          "output_type": "execute_result",
          "data": {
            "text/plain": [
              "<matplotlib.axes._subplots.AxesSubplot at 0x7fdba0269e50>"
            ]
          },
          "metadata": {},
          "execution_count": 293
        },
        {
          "output_type": "display_data",
          "data": {
            "text/plain": [
              "<Figure size 432x288 with 1 Axes>"
            ],
            "image/png": "[encoded data removed]"
          },
          "metadata": {
            "needs_background": "light"
          }
        }
      ]
    },
    {
      "cell_type": "code",
      "source": [
        "from sklearn.metrics import mean_squared_error"
      ],
      "metadata": {
        "id": "5Uq7IY248Hq1"
      },
      "execution_count": 294,
      "outputs": []
    },
    {
      "cell_type": "code",
      "source": [
        "mean_squared_error(y_pred,y_test)"
      ],
      "metadata": {
        "colab": {
          "base_uri": "https://localhost:8080/"
        },
        "id": "s2uR8y9p8KnR",
        "outputId": "ac5b0588-88a9-4413-a0c4-c49ab64c8419"
      },
      "execution_count": 295,
      "outputs": [
        {
          "output_type": "execute_result",
          "data": {
            "text/plain": [
              "0.24563064314826838"
            ]
          },
          "metadata": {},
          "execution_count": 295
        }
      ]
    },
    {
      "cell_type": "code",
      "source": [
        "PredictRating = lr.predict([[500000, 1000,20]])\n",
        "print(PredictRating)"
      ],
      "metadata": {
        "colab": {
          "base_uri": "https://localhost:8080/"
        },
        "id": "kshoYUN58NZH",
        "outputId": "06bcfb07-54a1-45fe-a06f-f7a87ddc1d55"
      },
      "execution_count": 296,
      "outputs": [
        {
          "output_type": "stream",
          "name": "stdout",
          "text": [
            "[4.20027022]\n"
          ]
        }
      ]
    },
    {
      "cell_type": "markdown",
      "source": [
        "#--------Conclusion---------"
      ],
      "metadata": {
        "id": "R62ujZIo861j"
      }
    }
  ]
}